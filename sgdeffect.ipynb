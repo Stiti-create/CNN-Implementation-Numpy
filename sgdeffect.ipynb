{
  "cells": [
    {
      "cell_type": "code",
      "execution_count": 1,
      "metadata": {
        "colab": {
          "base_uri": "https://localhost:8080/",
          "height": 487
        },
        "id": "hOUFjwRLIlau",
        "outputId": "2a412826-c34e-4554-d96e-3d01ba538cac"
      },
      "outputs": [
        {
          "name": "stdout",
          "output_type": "stream",
          "text": [
            "Looking in indexes: https://pypi.org/simple, https://us-python.pkg.dev/colab-wheels/public/simple/\n",
            "Collecting torch==1.12.1\n",
            "  Downloading torch-1.12.1-cp310-cp310-manylinux1_x86_64.whl (776.3 MB)\n",
            "\u001b[2K     \u001b[90m━━━━━━━━━━━━━━━━━━━━━━━━━━━━━━━━━━━━━━━\u001b[0m \u001b[32m776.3/776.3 MB\u001b[0m \u001b[31m1.7 MB/s\u001b[0m eta \u001b[36m0:00:00\u001b[0m\n",
            "\u001b[?25hRequirement already satisfied: typing-extensions in /usr/local/lib/python3.10/dist-packages (from torch==1.12.1) (4.5.0)\n",
            "Installing collected packages: torch\n",
            "  Attempting uninstall: torch\n",
            "    Found existing installation: torch 2.0.0+cu118\n",
            "    Uninstalling torch-2.0.0+cu118:\n",
            "      Successfully uninstalled torch-2.0.0+cu118\n",
            "\u001b[31mERROR: pip's dependency resolver does not currently take into account all the packages that are installed. This behaviour is the source of the following dependency conflicts.\n",
            "torchvision 0.15.1+cu118 requires torch==2.0.0, but you have torch 1.12.1 which is incompatible.\n",
            "torchtext 0.15.1 requires torch==2.0.0, but you have torch 1.12.1 which is incompatible.\n",
            "torchdata 0.6.0 requires torch==2.0.0, but you have torch 1.12.1 which is incompatible.\n",
            "torchaudio 2.0.1+cu118 requires torch==2.0.0, but you have torch 1.12.1 which is incompatible.\u001b[0m\u001b[31m\n",
            "\u001b[0mSuccessfully installed torch-1.12.1\n",
            "Looking in indexes: https://pypi.org/simple, https://us-python.pkg.dev/colab-wheels/public/simple/\n",
            "Collecting torchmetrics\n",
            "  Downloading torchmetrics-0.11.4-py3-none-any.whl (519 kB)\n",
            "\u001b[2K     \u001b[90m━━━━━━━━━━━━━━━━━━━━━━━━━━━━━━━━━━━━━━\u001b[0m \u001b[32m519.2/519.2 kB\u001b[0m \u001b[31m10.6 MB/s\u001b[0m eta \u001b[36m0:00:00\u001b[0m\n",
            "\u001b[?25hRequirement already satisfied: numpy>=1.17.2 in /usr/local/lib/python3.10/dist-packages (from torchmetrics) (1.22.4)\n",
            "Requirement already satisfied: torch>=1.8.1 in /usr/local/lib/python3.10/dist-packages (from torchmetrics) (1.12.1)\n",
            "Requirement already satisfied: packaging in /usr/local/lib/python3.10/dist-packages (from torchmetrics) (23.1)\n",
            "Requirement already satisfied: typing-extensions in /usr/local/lib/python3.10/dist-packages (from torch>=1.8.1->torchmetrics) (4.5.0)\n",
            "Installing collected packages: torchmetrics\n",
            "Successfully installed torchmetrics-0.11.4\n"
          ]
        },
        {
          "data": {
            "application/vnd.google.colaboratory.intrinsic+json": {
              "type": "string"
            },
            "text/plain": [
              "'1.12.1+cu102'"
            ]
          },
          "execution_count": 1,
          "metadata": {},
          "output_type": "execute_result"
        }
      ],
      "source": [
        "!pip install torch==1.12.1\n",
        "!pip install torchmetrics\n",
        "import torch\n",
        "torch.__version__"
      ]
    },
    {
      "cell_type": "code",
      "execution_count": 2,
      "metadata": {
        "colab": {
          "base_uri": "https://localhost:8080/"
        },
        "id": "8mKgYflBIlax",
        "outputId": "b8a0ac40-b4a9-4029-f7c7-9fea071dfdf6"
      },
      "outputs": [
        {
          "name": "stderr",
          "output_type": "stream",
          "text": [
            "/usr/local/lib/python3.10/dist-packages/torchvision/io/image.py:13: UserWarning: Failed to load image Python extension: '/usr/local/lib/python3.10/dist-packages/torchvision/image.so: undefined symbol: _ZN3c104impl8GPUTrace13gpuTraceStateE'If you don't plan on using image functionality from `torchvision.io`, you can ignore this warning. Otherwise, there might be something wrong with your environment. Did you have `libjpeg` or `libpng` installed before building `torchvision` from source?\n",
            "  warn(\n"
          ]
        }
      ],
      "source": [
        "#Import torch dependencies\n",
        "import torchvision\n",
        "import torchvision.transforms as transforms\n",
        "from torchmetrics.classification import MulticlassAccuracy\n",
        "from torchmetrics import Accuracy\n",
        "# file unpickle \n",
        "def unpickle(file):\n",
        "    import pickle\n",
        "    with open(file, 'rb') as fo:\n",
        "        dict = pickle.load(fo, encoding='bytes')\n",
        "    return dict"
      ]
    },
    {
      "cell_type": "code",
      "execution_count": 3,
      "metadata": {
        "id": "OumdMQyXIlay"
      },
      "outputs": [],
      "source": [
        "#Data loader: \n",
        "transform = transforms.Compose([transforms.ToTensor(),transforms.RandomHorizontalFlip(p=1)])\n",
        "batch_size = 10000"
      ]
    },
    {
      "cell_type": "code",
      "execution_count": 5,
      "metadata": {
        "colab": {
          "base_uri": "https://localhost:8080/",
          "height": 101,
          "referenced_widgets": [
            "f098922f70c54b4ebc43c35a43405136",
            "72a2e774c78e4113a818e768da4d0c7e",
            "f26ac48976734d8d9c802def752e9806",
            "c3bcc76302e44839963e4d1a0075cff9",
            "6d7897f844d349d6a104f8abe46b6f89",
            "7647466388214741babc1b2bf32677de",
            "2f765eee92d2443ba9246bfb7d5f757d",
            "02e862f5b76d483fbc85b81a17b04eea",
            "22ee6f3ea742491592319cf25b0d97a5",
            "b704eec297e54dfaa5c9d37813176262",
            "4b9d8fe00b2f4bd2af394ee14b583c07"
          ]
        },
        "id": "_x9QWJZTIlay",
        "outputId": "04adf576-45f4-4c4b-c463-1e2eae2ecf6b"
      },
      "outputs": [
        {
          "name": "stdout",
          "output_type": "stream",
          "text": [
            "Downloading https://www.cs.toronto.edu/~kriz/cifar-10-python.tar.gz to ./data/cifar-10-python.tar.gz\n"
          ]
        },
        {
          "data": {
            "application/vnd.jupyter.widget-view+json": {
              "model_id": "f098922f70c54b4ebc43c35a43405136",
              "version_major": 2,
              "version_minor": 0
            },
            "text/plain": [
              "  0%|          | 0/170498071 [00:00<?, ?it/s]"
            ]
          },
          "metadata": {},
          "output_type": "display_data"
        },
        {
          "name": "stdout",
          "output_type": "stream",
          "text": [
            "Extracting ./data/cifar-10-python.tar.gz to ./data\n",
            "Files already downloaded and verified\n"
          ]
        }
      ],
      "source": [
        "trainset = torchvision.datasets.CIFAR10(root='./data', train=True,download=True, transform=transform)\n",
        "trainloader = torch.utils.data.DataLoader(trainset, batch_size=batch_size,shuffle=True, num_workers=2)\n",
        "testset = torchvision.datasets.CIFAR10(root='./data', train=False,download=True, transform=transform)\n",
        "testloader = torch.utils.data.DataLoader(testset, batch_size=batch_size,shuffle=False, num_workers=2)"
      ]
    },
    {
      "cell_type": "code",
      "execution_count": null,
      "metadata": {
        "id": "8vl0LC0AIlaz"
      },
      "outputs": [],
      "source": [
        "#dropout\n",
        "#batch norm\n",
        "#group norm\n",
        "#resnet\n",
        "#dla\n",
        "#vgg"
      ]
    },
    {
      "cell_type": "code",
      "execution_count": 6,
      "metadata": {
        "colab": {
          "base_uri": "https://localhost:8080/"
        },
        "id": "242dyyUgIlaz",
        "outputId": "a0c5ae0c-beff-4e44-dd30-7cabd8ac479b"
      },
      "outputs": [
        {
          "name": "stderr",
          "output_type": "stream",
          "text": [
            "<ipython-input-6-043a4d172dbf>:26: UserWarning: To copy construct from a tensor, it is recommended to use sourceTensor.clone().detach() or sourceTensor.clone().detach().requires_grad_(True), rather than torch.tensor(sourceTensor).\n",
            "  encode_y = torch.tensor(encode_y, dtype=torch.float)\n",
            "<ipython-input-6-043a4d172dbf>:28: UserWarning: To copy construct from a tensor, it is recommended to use sourceTensor.clone().detach() or sourceTensor.clone().detach().requires_grad_(True), rather than torch.tensor(sourceTensor).\n",
            "  encode_test = torch.tensor(encode_test, dtype=torch.float)\n"
          ]
        }
      ],
      "source": [
        "dict1 = unpickle(file='./data/cifar-10-batches-py/data_batch_1')\n",
        "dict2 = unpickle(file='./data/cifar-10-batches-py/data_batch_2')\n",
        "dict3 = unpickle(file='./data/cifar-10-batches-py/data_batch_3')\n",
        "dict4 = unpickle(file='./data/cifar-10-batches-py/data_batch_4')\n",
        "dict5 = unpickle(file='./data/cifar-10-batches-py/data_batch_5')\n",
        "dict_test = unpickle(file='./data/cifar-10-batches-py/test_batch')\n",
        "train_x1 = torch.tensor(dict1[b'data'])\n",
        "train_y1 = torch.tensor(dict1[b'labels'])\n",
        "train_x2 = torch.tensor(dict2[b'data'])\n",
        "train_y2 = torch.tensor(dict2[b'labels'])\n",
        "train_x3 = torch.tensor(dict3[b'data'])\n",
        "train_y3 = torch.tensor(dict3[b'labels'])\n",
        "train_x4 = torch.tensor(dict4[b'data'])\n",
        "train_y4 = torch.tensor(dict4[b'labels'])\n",
        "train_x5 = torch.tensor(dict5[b'data'])\n",
        "train_y5 = torch.tensor(dict5[b'labels'])\n",
        "test_x = torch.tensor(dict_test[b'data'])\n",
        "test_y = torch.tensor(dict_test[b'labels'])\n",
        "train_x = torch.cat((train_x1, train_x2, train_x3, train_x4, train_x5), dim=0)\n",
        "train_y = torch.cat((train_y1, train_y2, train_y3, train_y4, train_y5), dim=0)\n",
        "train_x = torch.reshape(train_x, (50000, 3, 32, 32))\n",
        "train_x = train_x/255\n",
        "test_x = torch.reshape(test_x, (10000, 3, 32, 32))\n",
        "test_x = test_x/255\n",
        "encode_y = torch.nn.functional.one_hot(train_y.clone().detach(), num_classes=10)\n",
        "encode_y = torch.tensor(encode_y, dtype=torch.float)\n",
        "encode_test = torch.nn.functional.one_hot(test_y.clone().detach(), num_classes=10)\n",
        "encode_test = torch.tensor(encode_test, dtype=torch.float)"
      ]
    },
    {
      "cell_type": "code",
      "execution_count": 1,
      "metadata": {
        "id": "UTDj58kiIla0"
      },
      "outputs": [],
      "source": [
        "import matplotlib.pyplot as plt\n",
        "import numpy as np\n",
        "#(For plots and losses)"
      ]
    },
    {
      "cell_type": "code",
      "execution_count": 8,
      "metadata": {
        "id": "cM9ZM1REIla0"
      },
      "outputs": [],
      "source": [
        "class CNN_Model(torch.nn.Module):\n",
        "    def __init__(self) -> None:\n",
        "        super().__init__()\n",
        "        self.conv1 = torch.nn.Conv2d(in_channels=3,out_channels=32,kernel_size=(3,3),stride=(1,1), padding=(1,1), padding_mode='zeros', bias=True)\n",
        "        self.maxpool = torch.nn.MaxPool2d((2,2), stride=(2,2), padding=0)\n",
        "        self.conv2 = torch.nn.Conv2d(32,64,(5,5),stride=(1,1), padding=(1,1), padding_mode='zeros', bias=True)\n",
        "        self.conv3 = torch.nn.Conv2d(64,64,(3,3),stride=(1,1), padding=(1,1), padding_mode='zeros', bias=True)\n",
        "        self.fc1 = torch.nn.Linear(64*7*7, 64)\n",
        "        self.fc2 = torch.nn.Linear(64, 10)\n",
        "        self.softmax = torch.nn.LogSoftmax(dim=1)\n",
        "\n",
        "    def forward(self, x, batch_size):\n",
        "        x = self.conv1(x)\n",
        "        x = torch.nn.functional.relu(x)\n",
        "        x = self.maxpool(x)\n",
        "        x = self.conv2(x)\n",
        "        x = torch.nn.functional.relu(x)\n",
        "        x = self.maxpool(x)\n",
        "        x = self.conv3(x)\n",
        "        x = torch.nn.functional.relu(x)\n",
        "        x = torch.reshape(x, (batch_size, -1))\n",
        "        x = self.fc1(x)\n",
        "        x = torch.nn.functional.relu(x)\n",
        "        x = self.fc2(x)\n",
        "        logits = self.softmax(x)\n",
        "        return logits\n"
      ]
    },
    {
      "cell_type": "code",
      "execution_count": 9,
      "metadata": {
        "colab": {
          "base_uri": "https://localhost:8080/"
        },
        "id": "Z0mNQouPIla1",
        "outputId": "94e8f319-ba7c-4fbc-a36f-51bd62d2b26c"
      },
      "outputs": [
        {
          "name": "stdout",
          "output_type": "stream",
          "text": [
            "----EPOCH 1-----\n",
            "VAL ACC EPOCH = 1: 0.5109999775886536\n",
            "TRAIN ACC EPOCH 1: 0.5199999809265137\n",
            "----EPOCH 2-----\n",
            "VAL ACC EPOCH = 2: 0.6100000143051147\n",
            "TRAIN ACC EPOCH 2: 0.5979999899864197\n",
            "----EPOCH 3-----\n",
            "VAL ACC EPOCH = 3: 0.675000011920929\n",
            "TRAIN ACC EPOCH 3: 0.6790000200271606\n",
            "----EPOCH 4-----\n",
            "VAL ACC EPOCH = 4: 0.6850000023841858\n",
            "TRAIN ACC EPOCH 4: 0.7260000109672546\n",
            "----EPOCH 5-----\n",
            "VAL ACC EPOCH = 5: 0.6809999942779541\n",
            "TRAIN ACC EPOCH 5: 0.7450000047683716\n",
            "----EPOCH 6-----\n",
            "VAL ACC EPOCH = 6: 0.6819999814033508\n",
            "TRAIN ACC EPOCH 6: 0.7789999842643738\n",
            "----EPOCH 7-----\n",
            "VAL ACC EPOCH = 7: 0.675000011920929\n",
            "TRAIN ACC EPOCH 7: 0.7789999842643738\n",
            "----EPOCH 8-----\n",
            "VAL ACC EPOCH = 8: 0.6729999780654907\n",
            "TRAIN ACC EPOCH 8: 0.7900000214576721\n",
            "----EPOCH 9-----\n",
            "VAL ACC EPOCH = 9: 0.6809999942779541\n",
            "TRAIN ACC EPOCH 9: 0.7960000038146973\n",
            "----EPOCH 10-----\n",
            "VAL ACC EPOCH = 10: 0.6570000052452087\n",
            "TRAIN ACC EPOCH 10: 0.8240000009536743\n",
            "----EPOCH 11-----\n",
            "VAL ACC EPOCH = 11: 0.6579999923706055\n",
            "TRAIN ACC EPOCH 11: 0.8040000200271606\n",
            "----EPOCH 12-----\n",
            "VAL ACC EPOCH = 12: 0.6570000052452087\n",
            "TRAIN ACC EPOCH 12: 0.8240000009536743\n",
            "----EPOCH 13-----\n",
            "VAL ACC EPOCH = 13: 0.6639999747276306\n",
            "TRAIN ACC EPOCH 13: 0.8489999771118164\n",
            "----EPOCH 14-----\n",
            "VAL ACC EPOCH = 14: 0.6439999938011169\n",
            "TRAIN ACC EPOCH 14: 0.8500000238418579\n",
            "----EPOCH 15-----\n",
            "VAL ACC EPOCH = 15: 0.6589999794960022\n",
            "TRAIN ACC EPOCH 15: 0.8450000286102295\n",
            "----EPOCH 16-----\n",
            "VAL ACC EPOCH = 16: 0.6420000195503235\n",
            "TRAIN ACC EPOCH 16: 0.8790000081062317\n",
            "----EPOCH 17-----\n",
            "VAL ACC EPOCH = 17: 0.6520000100135803\n",
            "TRAIN ACC EPOCH 17: 0.8510000109672546\n",
            "----EPOCH 18-----\n",
            "VAL ACC EPOCH = 18: 0.6480000019073486\n",
            "TRAIN ACC EPOCH 18: 0.8299999833106995\n",
            "----EPOCH 19-----\n",
            "VAL ACC EPOCH = 19: 0.652999997138977\n",
            "TRAIN ACC EPOCH 19: 0.8709999918937683\n",
            "----EPOCH 20-----\n",
            "VAL ACC EPOCH = 20: 0.6520000100135803\n",
            "TRAIN ACC EPOCH 20: 0.8769999742507935\n",
            "tensor([0.5200, 0.5980, 0.6790, 0.7260, 0.7450, 0.7790, 0.7790, 0.7900, 0.7960,\n",
            "        0.8240, 0.8040, 0.8240, 0.8490, 0.8500, 0.8450, 0.8790, 0.8510, 0.8300,\n",
            "        0.8710, 0.8770])\n",
            "tensor([0.5110, 0.6100, 0.6750, 0.6850, 0.6810, 0.6820, 0.6750, 0.6730, 0.6810,\n",
            "        0.6570, 0.6580, 0.6570, 0.6640, 0.6440, 0.6590, 0.6420, 0.6520, 0.6480,\n",
            "        0.6530, 0.6520])\n",
            "tensor([2703.5938, 1867.5511, 1501.2531, 1279.8973, 1121.8652,  989.6296,\n",
            "         892.5962,  815.9091,  748.8079,  705.7111,  678.0449,  616.3486,\n",
            "         613.2810,  594.0627,  591.5928,  564.1304,  576.4331,  591.0236,\n",
            "         560.6044,  531.1397])\n",
            "tensor([1.3484, 1.0996, 0.9627, 0.9524, 0.9964, 1.0295, 1.1175, 1.1900, 1.2860,\n",
            "        1.4732, 1.4832, 1.6304, 1.5315, 1.7789, 1.6660, 1.8798, 1.7340, 1.8926,\n",
            "        2.0020, 1.8888])\n",
            "tensor([5.4089, 3.7363, 3.0035, 2.5606, 2.2444, 1.9799, 1.7858, 1.6323, 1.4981,\n",
            "        1.4119, 1.3565, 1.2331, 1.2270, 1.1885, 1.1836, 1.1286, 1.1532, 1.1824,\n",
            "        1.1216, 1.0626])\n",
            "tensor([0.1348, 0.1100, 0.0963, 0.0952, 0.0996, 0.1029, 0.1118, 0.1190, 0.1286,\n",
            "        0.1473, 0.1483, 0.1630, 0.1531, 0.1779, 0.1666, 0.1880, 0.1734, 0.1893,\n",
            "        0.2002, 0.1889])\n"
          ]
        }
      ],
      "source": [
        "epoch = 20\n",
        "batch_size = 32\n",
        "batches = 1562\n",
        "acc_met = Accuracy(task=\"multiclass\", num_classes=10).to('cuda:0')\n",
        "model = CNN_Model().to('cuda:0')\n",
        "criterion = torch.nn.CrossEntropyLoss()\n",
        "# optimizer = torch.optim.Adam(model.parameters(), lr=0.001)\n",
        "optimizer = torch.optim.SGD(model.parameters(), lr=0.01, momentum=0.9)\n",
        "# scheduler_LR = lr_scheduler.ExponentialLR(optimizer, gamma=0.99)\n",
        "trainaccs = torch.empty(epoch)\n",
        "valaccs = torch.empty(epoch)\n",
        "train_loss = torch.empty(epoch)\n",
        "val_loss = torch.empty(epoch)\n",
        "for epochs in range(epoch):\n",
        "    print(f'----EPOCH {epochs+1}-----')\n",
        "    tloss = 0\n",
        "    for b in range(batches):\n",
        "      data = train_x[b*batch_size:(b+1)*batch_size,:,:,:].to('cuda:0')\n",
        "      target = encode_y[b*batch_size:(b+1)*batch_size,:].to('cuda:0')\n",
        "      scores = model.forward(data,32)\n",
        "      loss = criterion(scores,target)\n",
        "      # print(f'EPOCH: {epochs+1}, BATCH: {b+1}, LOSS: {loss}')\n",
        "      tloss+=loss.item()\n",
        "      optimizer.zero_grad()\n",
        "      loss.backward()\n",
        "      optimizer.step()\n",
        "    # print(f'LR BEFORE: {optimizer.param_groups[0][\"lr\"]}')\n",
        "    # scheduler_LR.step()\n",
        "    # print(f'LR AFTER: {optimizer.param_groups[0][\"lr\"]}')\n",
        "    score_val = model.forward(test_x[:1000].to('cuda:0'),1000)\n",
        "    pred_val = torch.argmax(score_val, dim=1)\n",
        "    finalacc_val = acc_met(pred_val, test_y[:1000].to('cuda:0'))\n",
        "    score_tr = model.forward(train_x[:1000].to('cuda:0'),1000)\n",
        "    pred_tr = torch.argmax(score_tr, dim=1)\n",
        "    finalacc_tr = acc_met(pred_tr, train_y[:1000].to('cuda:0'))  \n",
        "    valaccs[epochs]=finalacc_val\n",
        "    trainaccs[epochs]=finalacc_tr\n",
        "    val_loss[epochs]=criterion(score_val,encode_test[:1000].to('cuda:0')).item()\n",
        "    train_loss[epochs]=tloss\n",
        "    print(f'VAL ACC EPOCH = {epochs+1}: {finalacc_val}')\n",
        "    print(f'TRAIN ACC EPOCH {epochs+1}: {finalacc_tr}')\n",
        "print(trainaccs)\n",
        "print(valaccs)\n",
        "print(train_loss)\n",
        "print(val_loss)\n",
        "train_loss = train_loss/499.84\n",
        "val_loss = val_loss/10\n",
        "print(train_loss)\n",
        "print(val_loss)\n",
        "loss_t = train_loss.detach().numpy()\n",
        "loss_v = val_loss.detach().numpy()"
      ]
    },
    {
      "cell_type": "code",
      "execution_count": 10,
      "metadata": {
        "colab": {
          "base_uri": "https://localhost:8080/",
          "height": 542
        },
        "id": "j8XekO_bIla1",
        "outputId": "0b9f6cfd-dada-4b5c-d14a-95b9980186c3"
      },
      "outputs": [
        {
          "data": {
            "image/png": "[encoded data removed]",
            "text/plain": [
              "<Figure size 800x600 with 1 Axes>"
            ]
          },
          "metadata": {},
          "output_type": "display_data"
        }
      ],
      "source": [
        "#Plots of accuracy:\n",
        "plt.figure(figsize=(8,6))\n",
        "plt.xlabel('Epochs')\n",
        "plt.ylabel('Accuracy')\n",
        "eps = np.arange(1,21)\n",
        "# plt.ylim(90,95)\n",
        "plt.xticks(np.arange(0,20))\n",
        "plt.plot(eps,trainaccs,'orange',label=\"Train data\")\n",
        "plt.plot(eps,valaccs, 'green', label='Validation data')\n",
        "plt.legend()\n",
        "plt.show()"
      ]
    },
    {
      "cell_type": "code",
      "execution_count": 11,
      "metadata": {
        "colab": {
          "base_uri": "https://localhost:8080/",
          "height": 547
        },
        "id": "DNtrvBe_Ila2",
        "outputId": "ad3bd523-1cdc-42ea-f483-8a785e733b75"
      },
      "outputs": [
        {
          "data": {
            "image/png": "[encoded data removed]",
            "text/plain": [
              "<Figure size 800x600 with 1 Axes>"
            ]
          },
          "metadata": {},
          "output_type": "display_data"
        }
      ],
      "source": [
        "#Plots of loss:\n",
        "plt.figure(figsize=(8,6))\n",
        "plt.xlabel('Epochs')\n",
        "plt.ylabel('Cross Entropy Loss')\n",
        "eps = np.arange(1,21)\n",
        "plt.ylim(0,3)\n",
        "plt.xticks(np.arange(0,20))\n",
        "plt.plot(eps,loss_t,'purple',label=\"Train data\")\n",
        "plt.plot(eps,loss_v, 'green', label='Validation data')\n",
        "plt.legend()\n",
        "plt.show()"
      ]
    },
    {
      "cell_type": "code",
      "execution_count": 12,
      "metadata": {
        "colab": {
          "base_uri": "https://localhost:8080/",
          "height": 611
        },
        "id": "CkCBQfXlIla2",
        "outputId": "9102144b-7e21-45be-bfd8-44f3de1a64f8"
      },
      "outputs": [
        {
          "name": "stderr",
          "output_type": "stream",
          "text": [
            "WARNING:matplotlib.legend:No artists with labels found to put in legend.  Note that artists whose label start with an underscore are ignored when legend() is called with no argument.\n"
          ]
        },
        {
          "name": "stdout",
          "output_type": "stream",
          "text": [
            "tensor(0.6520, device='cuda:0')\n",
            "tensor([0.6796, 0.7978, 0.4400, 0.4078, 0.5889, 0.6395, 0.7500, 0.7941, 0.6981,\n",
            "        0.7156], device='cuda:0')\n"
          ]
        },
        {
          "data": {
            "image/png": "[encoded data removed]",
            "text/plain": [
              "<Figure size 800x600 with 1 Axes>"
            ]
          },
          "metadata": {},
          "output_type": "display_data"
        }
      ],
      "source": [
        "metric = MulticlassAccuracy(num_classes=10, average=None).to('cuda:0')\n",
        "pred_y = torch.argmax(score_val, dim=1)\n",
        "classwise = metric(score_val, test_y[:1000].to('cuda:0'))\n",
        "val_acc_met = Accuracy(task=\"multiclass\", num_classes=10).to('cuda:0')\n",
        "finalacc = val_acc_met(pred_y, test_y[:1000].to('cuda:0'))\n",
        "print(finalacc)\n",
        "print(classwise)\n",
        "###BAR GRAPH OF CLASSWISE ACCURACY\n",
        "plt.figure(figsize=(8,6))\n",
        "classes = np.arange(0,10)\n",
        "plt.xticks(classes)\n",
        "plt.bar(classes, classwise.to('cpu'), color='purple',width=0.4)\n",
        "plt.xlabel('Classes')\n",
        "plt.ylabel('Accuracy')\n",
        "plt.legend()\n",
        "plt.show()"
      ]
    },
    {
      "cell_type": "code",
      "execution_count": null,
      "metadata": {},
      "outputs": [],
      "source": []
    },
    {
      "cell_type": "code",
      "execution_count": 7,
      "metadata": {
        "id": "lqhsImddIla2"
      },
      "outputs": [],
      "source": [
        "vloss_adam = np.array([0.1260, 0.1058, 0.0973, 0.0908, 0.0889, 0.0886, 0.0931, 0.0991, 0.1038,\n",
        "        0.1157, 0.1245, 0.1341, 0.1328, 0.1441, 0.1563, 0.1432, 0.1534, 0.1530,\n",
        "        0.1569, 0.1685, 0.1889, 0.1764, 0.1897, 0.1949, 0.2098, 0.2122, 0.2234,\n",
        "        0.2219, 0.2264, 0.2453, 0.2343, 0.2533, 0.2587, 0.2688, 0.2705, 0.2745,\n",
        "        0.2731, 0.2943, 0.2705, 0.2840])\n",
        "vacc_adam = np.array([0.5605, 0.6355, 0.6760, 0.6795, 0.6850, 0.6825, 0.6800, 0.6700, 0.6680,\n",
        "        0.6690, 0.6700, 0.6655, 0.6445, 0.6510, 0.6570, 0.6515, 0.6375, 0.6415,\n",
        "        0.6470, 0.6480, 0.6455, 0.6385, 0.6500, 0.6575, 0.6320, 0.6475, 0.6440,\n",
        "        0.6425, 0.6565, 0.6580, 0.6430, 0.6510, 0.6580, 0.6490, 0.6515])\n"
      ]
    },
    {
      "cell_type": "markdown",
      "metadata": {
        "colab": {
          "base_uri": "https://localhost:8080/",
          "height": 542
        },
        "id": "bWAjSoZ6i3He",
        "outputId": "a4681ef3-ccc5-44f7-a239-7ca8df0f0c7d"
      },
      "source": []
    },
    {
      "cell_type": "code",
      "execution_count": 8,
      "metadata": {},
      "outputs": [
        {
          "data": {
            "image/png": "[encoded data removed]",
            "text/plain": [
              "<Figure size 800x600 with 1 Axes>"
            ]
          },
          "metadata": {},
          "output_type": "display_data"
        }
      ],
      "source": [
        "plt.figure(figsize=(8,6))\n",
        "plt.xlabel('Epochs')\n",
        "plt.ylabel('Cross Entropy Loss')\n",
        "eps = np.arange(1,21)\n",
        "# plt.ylim(0,3)\n",
        "plt.xticks(np.arange(0,20))\n",
        "plt.plot(eps,vloss_adam[:20],'g',label=\"Adam\")\n",
        "plt.plot(eps,val_loss[:20], 'purple', label='SGD')\n",
        "plt.legend()\n",
        "plt.show()"
      ]
    }
  ],
  "metadata": {
    "accelerator": "GPU",
    "colab": {
      "provenance": []
    },
    "gpuClass": "standard",
    "kernelspec": {
      "display_name": "Python 3.9.12 ('base')",
      "language": "python",
      "name": "python3"
    },
    "language_info": {
      "codemirror_mode": {
        "name": "ipython",
        "version": 3
      },
      "file_extension": ".py",
      "mimetype": "text/x-python",
      "name": "python",
      "nbconvert_exporter": "python",
      "pygments_lexer": "ipython3",
      "version": "3.9.12"
    },
    "orig_nbformat": 4,
    "vscode": {
      "interpreter": {
        "hash": "73cba7173f8447e209b3236db8d7a4c2baa473635286a4d66150d0ea51f721be"
      }
    },
    "widgets": {
      "application/vnd.jupyter.widget-state+json": {
        "02e862f5b76d483fbc85b81a17b04eea": {
          "model_module": "@jupyter-widgets/base",
          "model_module_version": "1.2.0",
          "model_name": "LayoutModel",
          "state": {
            "_model_module": "@jupyter-widgets/base",
            "_model_module_version": "1.2.0",
            "_model_name": "LayoutModel",
            "_view_count": null,
            "_view_module": "@jupyter-widgets/base",
            "_view_module_version": "1.2.0",
            "_view_name": "LayoutView",
            "align_content": null,
            "align_items": null,
            "align_self": null,
            "border": null,
            "bottom": null,
            "display": null,
            "flex": null,
            "flex_flow": null,
            "grid_area": null,
            "grid_auto_columns": null,
            "grid_auto_flow": null,
            "grid_auto_rows": null,
            "grid_column": null,
            "grid_gap": null,
            "grid_row": null,
            "grid_template_areas": null,
            "grid_template_columns": null,
            "grid_template_rows": null,
            "height": null,
            "justify_content": null,
            "justify_items": null,
            "left": null,
            "margin": null,
            "max_height": null,
            "max_width": null,
            "min_height": null,
            "min_width": null,
            "object_fit": null,
            "object_position": null,
            "order": null,
            "overflow": null,
            "overflow_x": null,
            "overflow_y": null,
            "padding": null,
            "right": null,
            "top": null,
            "visibility": null,
            "width": null
          }
        },
        "22ee6f3ea742491592319cf25b0d97a5": {
          "model_module": "@jupyter-widgets/controls",
          "model_module_version": "1.5.0",
          "model_name": "ProgressStyleModel",
          "state": {
            "_model_module": "@jupyter-widgets/controls",
            "_model_module_version": "1.5.0",
            "_model_name": "ProgressStyleModel",
            "_view_count": null,
            "_view_module": "@jupyter-widgets/base",
            "_view_module_version": "1.2.0",
            "_view_name": "StyleView",
            "bar_color": null,
            "description_width": ""
          }
        },
        "2f765eee92d2443ba9246bfb7d5f757d": {
          "model_module": "@jupyter-widgets/controls",
          "model_module_version": "1.5.0",
          "model_name": "DescriptionStyleModel",
          "state": {
            "_model_module": "@jupyter-widgets/controls",
            "_model_module_version": "1.5.0",
            "_model_name": "DescriptionStyleModel",
            "_view_count": null,
            "_view_module": "@jupyter-widgets/base",
            "_view_module_version": "1.2.0",
            "_view_name": "StyleView",
            "description_width": ""
          }
        },
        "4b9d8fe00b2f4bd2af394ee14b583c07": {
          "model_module": "@jupyter-widgets/controls",
          "model_module_version": "1.5.0",
          "model_name": "DescriptionStyleModel",
          "state": {
            "_model_module": "@jupyter-widgets/controls",
            "_model_module_version": "1.5.0",
            "_model_name": "DescriptionStyleModel",
            "_view_count": null,
            "_view_module": "@jupyter-widgets/base",
            "_view_module_version": "1.2.0",
            "_view_name": "StyleView",
            "description_width": ""
          }
        },
        "6d7897f844d349d6a104f8abe46b6f89": {
          "model_module": "@jupyter-widgets/base",
          "model_module_version": "1.2.0",
          "model_name": "LayoutModel",
          "state": {
            "_model_module": "@jupyter-widgets/base",
            "_model_module_version": "1.2.0",
            "_model_name": "LayoutModel",
            "_view_count": null,
            "_view_module": "@jupyter-widgets/base",
            "_view_module_version": "1.2.0",
            "_view_name": "LayoutView",
            "align_content": null,
            "align_items": null,
            "align_self": null,
            "border": null,
            "bottom": null,
            "display": null,
            "flex": null,
            "flex_flow": null,
            "grid_area": null,
            "grid_auto_columns": null,
            "grid_auto_flow": null,
            "grid_auto_rows": null,
            "grid_column": null,
            "grid_gap": null,
            "grid_row": null,
            "grid_template_areas": null,
            "grid_template_columns": null,
            "grid_template_rows": null,
            "height": null,
            "justify_content": null,
            "justify_items": null,
            "left": null,
            "margin": null,
            "max_height": null,
            "max_width": null,
            "min_height": null,
            "min_width": null,
            "object_fit": null,
            "object_position": null,
            "order": null,
            "overflow": null,
            "overflow_x": null,
            "overflow_y": null,
            "padding": null,
            "right": null,
            "top": null,
            "visibility": null,
            "width": null
          }
        },
        "72a2e774c78e4113a818e768da4d0c7e": {
          "model_module": "@jupyter-widgets/controls",
          "model_module_version": "1.5.0",
          "model_name": "HTMLModel",
          "state": {
            "_dom_classes": [],
            "_model_module": "@jupyter-widgets/controls",
            "_model_module_version": "1.5.0",
            "_model_name": "HTMLModel",
            "_view_count": null,
            "_view_module": "@jupyter-widgets/controls",
            "_view_module_version": "1.5.0",
            "_view_name": "HTMLView",
            "description": "",
            "description_tooltip": null,
            "layout": "IPY_MODEL_7647466388214741babc1b2bf32677de",
            "placeholder": "​",
            "style": "IPY_MODEL_2f765eee92d2443ba9246bfb7d5f757d",
            "value": "100%"
          }
        },
        "7647466388214741babc1b2bf32677de": {
          "model_module": "@jupyter-widgets/base",
          "model_module_version": "1.2.0",
          "model_name": "LayoutModel",
          "state": {
            "_model_module": "@jupyter-widgets/base",
            "_model_module_version": "1.2.0",
            "_model_name": "LayoutModel",
            "_view_count": null,
            "_view_module": "@jupyter-widgets/base",
            "_view_module_version": "1.2.0",
            "_view_name": "LayoutView",
            "align_content": null,
            "align_items": null,
            "align_self": null,
            "border": null,
            "bottom": null,
            "display": null,
            "flex": null,
            "flex_flow": null,
            "grid_area": null,
            "grid_auto_columns": null,
            "grid_auto_flow": null,
            "grid_auto_rows": null,
            "grid_column": null,
            "grid_gap": null,
            "grid_row": null,
            "grid_template_areas": null,
            "grid_template_columns": null,
            "grid_template_rows": null,
            "height": null,
            "justify_content": null,
            "justify_items": null,
            "left": null,
            "margin": null,
            "max_height": null,
            "max_width": null,
            "min_height": null,
            "min_width": null,
            "object_fit": null,
            "object_position": null,
            "order": null,
            "overflow": null,
            "overflow_x": null,
            "overflow_y": null,
            "padding": null,
            "right": null,
            "top": null,
            "visibility": null,
            "width": null
          }
        },
        "b704eec297e54dfaa5c9d37813176262": {
          "model_module": "@jupyter-widgets/base",
          "model_module_version": "1.2.0",
          "model_name": "LayoutModel",
          "state": {
            "_model_module": "@jupyter-widgets/base",
            "_model_module_version": "1.2.0",
            "_model_name": "LayoutModel",
            "_view_count": null,
            "_view_module": "@jupyter-widgets/base",
            "_view_module_version": "1.2.0",
            "_view_name": "LayoutView",
            "align_content": null,
            "align_items": null,
            "align_self": null,
            "border": null,
            "bottom": null,
            "display": null,
            "flex": null,
            "flex_flow": null,
            "grid_area": null,
            "grid_auto_columns": null,
            "grid_auto_flow": null,
            "grid_auto_rows": null,
            "grid_column": null,
            "grid_gap": null,
            "grid_row": null,
            "grid_template_areas": null,
            "grid_template_columns": null,
            "grid_template_rows": null,
            "height": null,
            "justify_content": null,
            "justify_items": null,
            "left": null,
            "margin": null,
            "max_height": null,
            "max_width": null,
            "min_height": null,
            "min_width": null,
            "object_fit": null,
            "object_position": null,
            "order": null,
            "overflow": null,
            "overflow_x": null,
            "overflow_y": null,
            "padding": null,
            "right": null,
            "top": null,
            "visibility": null,
            "width": null
          }
        },
        "c3bcc76302e44839963e4d1a0075cff9": {
          "model_module": "@jupyter-widgets/controls",
          "model_module_version": "1.5.0",
          "model_name": "HTMLModel",
          "state": {
            "_dom_classes": [],
            "_model_module": "@jupyter-widgets/controls",
            "_model_module_version": "1.5.0",
            "_model_name": "HTMLModel",
            "_view_count": null,
            "_view_module": "@jupyter-widgets/controls",
            "_view_module_version": "1.5.0",
            "_view_name": "HTMLView",
            "description": "",
            "description_tooltip": null,
            "layout": "IPY_MODEL_b704eec297e54dfaa5c9d37813176262",
            "placeholder": "​",
            "style": "IPY_MODEL_4b9d8fe00b2f4bd2af394ee14b583c07",
            "value": " 170498071/170498071 [00:02&lt;00:00, 75262495.07it/s]"
          }
        },
        "f098922f70c54b4ebc43c35a43405136": {
          "model_module": "@jupyter-widgets/controls",
          "model_module_version": "1.5.0",
          "model_name": "HBoxModel",
          "state": {
            "_dom_classes": [],
            "_model_module": "@jupyter-widgets/controls",
            "_model_module_version": "1.5.0",
            "_model_name": "HBoxModel",
            "_view_count": null,
            "_view_module": "@jupyter-widgets/controls",
            "_view_module_version": "1.5.0",
            "_view_name": "HBoxView",
            "box_style": "",
            "children": [
              "IPY_MODEL_72a2e774c78e4113a818e768da4d0c7e",
              "IPY_MODEL_f26ac48976734d8d9c802def752e9806",
              "IPY_MODEL_c3bcc76302e44839963e4d1a0075cff9"
            ],
            "layout": "IPY_MODEL_6d7897f844d349d6a104f8abe46b6f89"
          }
        },
        "f26ac48976734d8d9c802def752e9806": {
          "model_module": "@jupyter-widgets/controls",
          "model_module_version": "1.5.0",
          "model_name": "FloatProgressModel",
          "state": {
            "_dom_classes": [],
            "_model_module": "@jupyter-widgets/controls",
            "_model_module_version": "1.5.0",
            "_model_name": "FloatProgressModel",
            "_view_count": null,
            "_view_module": "@jupyter-widgets/controls",
            "_view_module_version": "1.5.0",
            "_view_name": "ProgressView",
            "bar_style": "success",
            "description": "",
            "description_tooltip": null,
            "layout": "IPY_MODEL_02e862f5b76d483fbc85b81a17b04eea",
            "max": 170498071,
            "min": 0,
            "orientation": "horizontal",
            "style": "IPY_MODEL_22ee6f3ea742491592319cf25b0d97a5",
            "value": 170498071
          }
        }
      }
    }
  },
  "nbformat": 4,
  "nbformat_minor": 0
}

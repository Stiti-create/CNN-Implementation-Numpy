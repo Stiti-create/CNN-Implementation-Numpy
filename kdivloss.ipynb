{
  "cells": [
    {
      "cell_type": "code",
      "execution_count": 1,
      "metadata": {
        "colab": {
          "base_uri": "https://localhost:8080/",
          "height": 487
        },
        "id": "XuW0VdL0jjcy",
        "outputId": "fb2ad570-1103-4df9-a820-b714b30e16cc"
      },
      "outputs": [
        {
          "output_type": "stream",
          "name": "stdout",
          "text": [
            "Looking in indexes: https://pypi.org/simple, https://us-python.pkg.dev/colab-wheels/public/simple/\n",
            "Collecting torch==1.12.1\n",
            "  Downloading torch-1.12.1-cp310-cp310-manylinux1_x86_64.whl (776.3 MB)\n",
            "\u001b[2K     \u001b[90m━━━━━━━━━━━━━━━━━━━━━━━━━━━━━━━━━━━━━━━\u001b[0m \u001b[32m776.3/776.3 MB\u001b[0m \u001b[31m1.7 MB/s\u001b[0m eta \u001b[36m0:00:00\u001b[0m\n",
            "\u001b[?25hRequirement already satisfied: typing-extensions in /usr/local/lib/python3.10/dist-packages (from torch==1.12.1) (4.5.0)\n",
            "Installing collected packages: torch\n",
            "  Attempting uninstall: torch\n",
            "    Found existing installation: torch 2.0.0+cu118\n",
            "    Uninstalling torch-2.0.0+cu118:\n",
            "      Successfully uninstalled torch-2.0.0+cu118\n",
            "\u001b[31mERROR: pip's dependency resolver does not currently take into account all the packages that are installed. This behaviour is the source of the following dependency conflicts.\n",
            "torchvision 0.15.1+cu118 requires torch==2.0.0, but you have torch 1.12.1 which is incompatible.\n",
            "torchtext 0.15.1 requires torch==2.0.0, but you have torch 1.12.1 which is incompatible.\n",
            "torchdata 0.6.0 requires torch==2.0.0, but you have torch 1.12.1 which is incompatible.\n",
            "torchaudio 2.0.1+cu118 requires torch==2.0.0, but you have torch 1.12.1 which is incompatible.\u001b[0m\u001b[31m\n",
            "\u001b[0mSuccessfully installed torch-1.12.1\n",
            "Looking in indexes: https://pypi.org/simple, https://us-python.pkg.dev/colab-wheels/public/simple/\n",
            "Collecting torchmetrics\n",
            "  Downloading torchmetrics-0.11.4-py3-none-any.whl (519 kB)\n",
            "\u001b[2K     \u001b[90m━━━━━━━━━━━━━━━━━━━━━━━━━━━━━━━━━━━━━━━\u001b[0m \u001b[32m519.2/519.2 kB\u001b[0m \u001b[31m5.9 MB/s\u001b[0m eta \u001b[36m0:00:00\u001b[0m\n",
            "\u001b[?25hRequirement already satisfied: packaging in /usr/local/lib/python3.10/dist-packages (from torchmetrics) (23.1)\n",
            "Requirement already satisfied: torch>=1.8.1 in /usr/local/lib/python3.10/dist-packages (from torchmetrics) (1.12.1)\n",
            "Requirement already satisfied: numpy>=1.17.2 in /usr/local/lib/python3.10/dist-packages (from torchmetrics) (1.22.4)\n",
            "Requirement already satisfied: typing-extensions in /usr/local/lib/python3.10/dist-packages (from torch>=1.8.1->torchmetrics) (4.5.0)\n",
            "Installing collected packages: torchmetrics\n",
            "Successfully installed torchmetrics-0.11.4\n"
          ]
        },
        {
          "output_type": "execute_result",
          "data": {
            "text/plain": [
              "'1.12.1+cu102'"
            ],
            "application/vnd.google.colaboratory.intrinsic+json": {
              "type": "string"
            }
          },
          "metadata": {},
          "execution_count": 1
        }
      ],
      "source": [
        "!pip install torch==1.12.1\n",
        "!pip install torchmetrics\n",
        "import torch\n",
        "torch.__version__"
      ]
    },
    {
      "cell_type": "code",
      "execution_count": 2,
      "metadata": {
        "colab": {
          "base_uri": "https://localhost:8080/"
        },
        "id": "suWK-qKzjjc0",
        "outputId": "4f8f2606-51d1-4bae-861e-aeca76b253e0"
      },
      "outputs": [
        {
          "output_type": "stream",
          "name": "stderr",
          "text": [
            "/usr/local/lib/python3.10/dist-packages/torchvision/io/image.py:13: UserWarning: Failed to load image Python extension: '/usr/local/lib/python3.10/dist-packages/torchvision/image.so: undefined symbol: _ZN3c104impl8GPUTrace13gpuTraceStateE'If you don't plan on using image functionality from `torchvision.io`, you can ignore this warning. Otherwise, there might be something wrong with your environment. Did you have `libjpeg` or `libpng` installed before building `torchvision` from source?\n",
            "  warn(\n"
          ]
        }
      ],
      "source": [
        "#Import torch dependencies\n",
        "import torchvision\n",
        "import torchvision.transforms as transforms\n",
        "from torchmetrics.classification import MulticlassAccuracy\n",
        "from torchmetrics import Accuracy\n",
        "# file unpickle \n",
        "def unpickle(file):\n",
        "    import pickle\n",
        "    with open(file, 'rb') as fo:\n",
        "        dict = pickle.load(fo, encoding='bytes')\n",
        "    return dict"
      ]
    },
    {
      "cell_type": "code",
      "execution_count": 3,
      "metadata": {
        "id": "jza3RngFjjc1"
      },
      "outputs": [],
      "source": [
        "#Data loader: \n",
        "transform = transforms.Compose([transforms.ToTensor(),transforms.RandomHorizontalFlip(p=1)])\n",
        "batch_size = 10000"
      ]
    },
    {
      "cell_type": "code",
      "execution_count": 4,
      "metadata": {
        "colab": {
          "base_uri": "https://localhost:8080/",
          "height": 101,
          "referenced_widgets": [
            "dbac80225549415fb03c2dbf4dcace1a",
            "b05fd798e2a448599b289e95d942355b",
            "2568aef6ebf6438ebf244352a5e7b9dd",
            "24183cc189ec49f89ed063f94ff617fb",
            "24a3975cd78a482aa1768e5cc1c23f2f",
            "388c0d32ea5048ac8312430a97ae2172",
            "7fcaf82805584a039501eebc1514d90d",
            "50d2baafa1c8456f98e98abc97086c68",
            "7081c7e1f19648deb35c0715b66516a6",
            "ff1f948f3b754c679532182c34a19a02",
            "0394c30b93c84c1ea37e76c08ee84dc1"
          ]
        },
        "id": "zLq7g7KNjjc1",
        "outputId": "64fc3abb-bb3c-4a8c-a037-ee331174be97"
      },
      "outputs": [
        {
          "output_type": "stream",
          "name": "stdout",
          "text": [
            "Downloading https://www.cs.toronto.edu/~kriz/cifar-10-python.tar.gz to ./data/cifar-10-python.tar.gz\n"
          ]
        },
        {
          "output_type": "display_data",
          "data": {
            "text/plain": [
              "  0%|          | 0/170498071 [00:00<?, ?it/s]"
            ],
            "application/vnd.jupyter.widget-view+json": {
              "version_major": 2,
              "version_minor": 0,
              "model_id": "dbac80225549415fb03c2dbf4dcace1a"
            }
          },
          "metadata": {}
        },
        {
          "output_type": "stream",
          "name": "stdout",
          "text": [
            "Extracting ./data/cifar-10-python.tar.gz to ./data\n",
            "Files already downloaded and verified\n"
          ]
        }
      ],
      "source": [
        "trainset = torchvision.datasets.CIFAR10(root='./data', train=True,download=True, transform=transform)\n",
        "trainloader = torch.utils.data.DataLoader(trainset, batch_size=batch_size,shuffle=True, num_workers=2)\n",
        "testset = torchvision.datasets.CIFAR10(root='./data', train=False,download=True, transform=transform)\n",
        "testloader = torch.utils.data.DataLoader(testset, batch_size=batch_size,shuffle=False, num_workers=2)"
      ]
    },
    {
      "cell_type": "code",
      "execution_count": null,
      "metadata": {
        "id": "xFbMr48Jjjc2"
      },
      "outputs": [],
      "source": [
        "#dropout\n",
        "#batch norm\n",
        "#group norm\n",
        "#resnet\n",
        "#dla\n",
        "#vgg"
      ]
    },
    {
      "cell_type": "code",
      "execution_count": 5,
      "metadata": {
        "colab": {
          "base_uri": "https://localhost:8080/"
        },
        "id": "qE9MWZSrjjc2",
        "outputId": "c7947886-9ff2-43f4-bdd7-ba969ad9ae79"
      },
      "outputs": [
        {
          "output_type": "stream",
          "name": "stderr",
          "text": [
            "<ipython-input-5-26873d91b02a>:27: UserWarning: To copy construct from a tensor, it is recommended to use sourceTensor.clone().detach() or sourceTensor.clone().detach().requires_grad_(True), rather than torch.tensor(sourceTensor).\n",
            "  encode_y = torch.tensor(encode_y, dtype=torch.float)\n",
            "<ipython-input-5-26873d91b02a>:29: UserWarning: To copy construct from a tensor, it is recommended to use sourceTensor.clone().detach() or sourceTensor.clone().detach().requires_grad_(True), rather than torch.tensor(sourceTensor).\n",
            "  encode_test = torch.tensor(encode_test, dtype=torch.float)\n"
          ]
        }
      ],
      "source": [
        "dict1 = unpickle(file='./data/cifar-10-batches-py/data_batch_1')\n",
        "dict2 = unpickle(file='./data/cifar-10-batches-py/data_batch_2')\n",
        "dict3 = unpickle(file='./data/cifar-10-batches-py/data_batch_3')\n",
        "dict4 = unpickle(file='./data/cifar-10-batches-py/data_batch_4')\n",
        "\n",
        "dict5 = unpickle(file='./data/cifar-10-batches-py/data_batch_5')\n",
        "dict_test = unpickle(file='./data/cifar-10-batches-py/test_batch')\n",
        "train_x1 = torch.tensor(dict1[b'data'])\n",
        "train_y1 = torch.tensor(dict1[b'labels'])\n",
        "train_x2 = torch.tensor(dict2[b'data'])\n",
        "train_y2 = torch.tensor(dict2[b'labels'])\n",
        "train_x3 = torch.tensor(dict3[b'data'])\n",
        "train_y3 = torch.tensor(dict3[b'labels'])\n",
        "train_x4 = torch.tensor(dict4[b'data'])\n",
        "train_y4 = torch.tensor(dict4[b'labels'])\n",
        "train_x5 = torch.tensor(dict5[b'data'])\n",
        "train_y5 = torch.tensor(dict5[b'labels'])\n",
        "test_x = torch.tensor(dict_test[b'data'])\n",
        "test_y = torch.tensor(dict_test[b'labels'])\n",
        "train_x = torch.cat((train_x1, train_x2, train_x3, train_x4, train_x5), dim=0)\n",
        "train_y = torch.cat((train_y1, train_y2, train_y3, train_y4, train_y5), dim=0)\n",
        "train_x = torch.reshape(train_x, (50000, 3, 32, 32))\n",
        "train_x = train_x/255\n",
        "test_x = torch.reshape(test_x, (10000, 3, 32, 32))\n",
        "test_x = test_x/255\n",
        "encode_y = torch.nn.functional.one_hot(train_y.clone().detach(), num_classes=10)\n",
        "encode_y = torch.tensor(encode_y, dtype=torch.float)\n",
        "encode_test = torch.nn.functional.one_hot(test_y.clone().detach(), num_classes=10)\n",
        "encode_test = torch.tensor(encode_test, dtype=torch.float)"
      ]
    },
    {
      "cell_type": "code",
      "execution_count": 6,
      "metadata": {
        "id": "2ITdBrs4jjc2"
      },
      "outputs": [],
      "source": [
        "import matplotlib.pyplot as plt\n",
        "import numpy as np\n",
        "#(For plots and losses)"
      ]
    },
    {
      "cell_type": "code",
      "execution_count": 7,
      "metadata": {
        "id": "Gdze2TnLjjc3"
      },
      "outputs": [],
      "source": [
        "class CNN_Model(torch.nn.Module):\n",
        "    def __init__(self) -> None:\n",
        "        super().__init__()\n",
        "        self.conv1 = torch.nn.Conv2d(in_channels=3,out_channels=32,kernel_size=(3,3),stride=(1,1), padding=(1,1), padding_mode='zeros', bias=True)\n",
        "        self.maxpool = torch.nn.MaxPool2d((2,2), stride=(2,2), padding=0)\n",
        "        self.conv2 = torch.nn.Conv2d(32,64,(5,5),stride=(1,1), padding=(1,1), padding_mode='zeros', bias=True)\n",
        "        self.conv3 = torch.nn.Conv2d(64,64,(3,3),stride=(1,1), padding=(1,1), padding_mode='zeros', bias=True)\n",
        "        self.fc1 = torch.nn.Linear(64*7*7, 64)\n",
        "        self.fc2 = torch.nn.Linear(64, 10)\n",
        "        self.softmax = torch.nn.LogSoftmax(dim=1)\n",
        "\n",
        "    def forward(self, x, batch_size):\n",
        "        x = self.conv1(x)\n",
        "        x = torch.nn.functional.relu(x)\n",
        "        x = self.maxpool(x)\n",
        "        x = self.conv2(x)\n",
        "        x = torch.nn.functional.relu(x)\n",
        "        x = self.maxpool(x)\n",
        "        x = self.conv3(x)\n",
        "        x = torch.nn.functional.relu(x)\n",
        "        x = torch.reshape(x, (batch_size, -1))\n",
        "        x = self.fc1(x)\n",
        "        x = torch.nn.functional.relu(x)\n",
        "        x = self.fc2(x)\n",
        "        logits = self.softmax(x)\n",
        "        return logits\n"
      ]
    },
    {
      "cell_type": "code",
      "execution_count": 9,
      "metadata": {
        "colab": {
          "base_uri": "https://localhost:8080/"
        },
        "id": "iarp1m7hjjc3",
        "outputId": "ca919010-66ea-4d35-fd69-1a94d5b4bfd9"
      },
      "outputs": [
        {
          "output_type": "stream",
          "name": "stdout",
          "text": [
            "----EPOCH 1-----\n",
            "VAL ACC EPOCH = 1: 0.6159999966621399\n",
            "TRAIN ACC EPOCH 1: 0.6200000047683716\n",
            "----EPOCH 2-----\n",
            "VAL ACC EPOCH = 2: 0.6690000295639038\n",
            "TRAIN ACC EPOCH 2: 0.6970000267028809\n",
            "----EPOCH 3-----\n",
            "VAL ACC EPOCH = 3: 0.6970000267028809\n",
            "TRAIN ACC EPOCH 3: 0.7289999723434448\n",
            "----EPOCH 4-----\n",
            "VAL ACC EPOCH = 4: 0.703000009059906\n",
            "TRAIN ACC EPOCH 4: 0.7409999966621399\n",
            "----EPOCH 5-----\n",
            "VAL ACC EPOCH = 5: 0.7049999833106995\n",
            "TRAIN ACC EPOCH 5: 0.7570000290870667\n",
            "----EPOCH 6-----\n",
            "VAL ACC EPOCH = 6: 0.7089999914169312\n",
            "TRAIN ACC EPOCH 6: 0.7850000262260437\n",
            "----EPOCH 7-----\n",
            "VAL ACC EPOCH = 7: 0.7229999899864197\n",
            "TRAIN ACC EPOCH 7: 0.8029999732971191\n",
            "----EPOCH 8-----\n",
            "VAL ACC EPOCH = 8: 0.7099999785423279\n",
            "TRAIN ACC EPOCH 8: 0.8190000057220459\n",
            "----EPOCH 9-----\n",
            "VAL ACC EPOCH = 9: 0.703000009059906\n",
            "TRAIN ACC EPOCH 9: 0.8109999895095825\n",
            "----EPOCH 10-----\n",
            "VAL ACC EPOCH = 10: 0.6909999847412109\n",
            "TRAIN ACC EPOCH 10: 0.8220000267028809\n",
            "----EPOCH 11-----\n",
            "VAL ACC EPOCH = 11: 0.6880000233650208\n",
            "TRAIN ACC EPOCH 11: 0.8360000252723694\n",
            "----EPOCH 12-----\n",
            "VAL ACC EPOCH = 12: 0.6880000233650208\n",
            "TRAIN ACC EPOCH 12: 0.8500000238418579\n",
            "----EPOCH 13-----\n",
            "VAL ACC EPOCH = 13: 0.7039999961853027\n",
            "TRAIN ACC EPOCH 13: 0.8650000095367432\n",
            "----EPOCH 14-----\n",
            "VAL ACC EPOCH = 14: 0.7070000171661377\n",
            "TRAIN ACC EPOCH 14: 0.8679999709129333\n",
            "----EPOCH 15-----\n",
            "VAL ACC EPOCH = 15: 0.7080000042915344\n",
            "TRAIN ACC EPOCH 15: 0.8690000176429749\n",
            "----EPOCH 16-----\n",
            "VAL ACC EPOCH = 16: 0.7099999785423279\n",
            "TRAIN ACC EPOCH 16: 0.8679999709129333\n",
            "----EPOCH 17-----\n",
            "VAL ACC EPOCH = 17: 0.6919999718666077\n",
            "TRAIN ACC EPOCH 17: 0.8899999856948853\n",
            "----EPOCH 18-----\n",
            "VAL ACC EPOCH = 18: 0.6899999976158142\n",
            "TRAIN ACC EPOCH 18: 0.875\n",
            "----EPOCH 19-----\n",
            "VAL ACC EPOCH = 19: 0.6859999895095825\n",
            "TRAIN ACC EPOCH 19: 0.8769999742507935\n",
            "----EPOCH 20-----\n",
            "VAL ACC EPOCH = 20: 0.6949999928474426\n",
            "TRAIN ACC EPOCH 20: 0.8809999823570251\n",
            "tensor([45988.2930, 45766.9297, 45681.6992, 45625.6445, 45586.9727, 45552.4766,\n",
            "        45527.0117, 45504.9727, 45486.7969, 45468.3359, 45452.3438, 45436.7852,\n",
            "        45425.0156, 45414.2617, 45402.9609, 45393.6680, 45380.9727, 45371.0820,\n",
            "        45363.3047, 45361.2656])\n",
            "tensor([29.3283, 29.2681, 29.2456, 29.2393, 29.2376, 29.2293, 29.2254, 29.2366,\n",
            "        29.2495, 29.2673, 29.2756, 29.2752, 29.2665, 29.2741, 29.2821, 29.2897,\n",
            "        29.3045, 29.3058, 29.3242, 29.3294])\n",
            "tensor([92.0060, 91.5632, 91.3926, 91.2805, 91.2031, 91.1341, 91.0832, 91.0391,\n",
            "        91.0027, 90.9658, 90.9338, 90.9027, 90.8791, 90.8576, 90.8350, 90.8164,\n",
            "        90.7910, 90.7712, 90.7557, 90.7516])\n",
            "tensor([2.9328, 2.9268, 2.9246, 2.9239, 2.9238, 2.9229, 2.9225, 2.9237, 2.9249,\n",
            "        2.9267, 2.9276, 2.9275, 2.9267, 2.9274, 2.9282, 2.9290, 2.9304, 2.9306,\n",
            "        2.9324, 2.9329])\n"
          ]
        }
      ],
      "source": [
        "epoch = 20\n",
        "batch_size = 32\n",
        "batches = 1562\n",
        "acc_met = Accuracy(task=\"multiclass\", num_classes=10).to('cuda:0')\n",
        "model = CNN_Model().to('cuda:0')\n",
        "# criterion = torch.nn.CrossEntropyLoss()\n",
        "optimizer = torch.optim.Adam(model.parameters(), lr=0.001)\n",
        "# scheduler_LR = lr_scheduler.ExponentialLR(optimizer, gamma=0.99)\n",
        "criterionKL = torch.nn.KLDivLoss(reduction=\"batchmean\", log_target=True)\n",
        "trainaccs = torch.empty(epoch)\n",
        "valaccs = torch.empty(epoch)\n",
        "train_loss = torch.empty(epoch)\n",
        "val_loss = torch.empty(epoch)\n",
        "for epochs in range(epoch):\n",
        "    print(f'----EPOCH {epochs+1}-----')\n",
        "    tloss = 0\n",
        "    for b in range(batches):\n",
        "      data = train_x[b*batch_size:(b+1)*batch_size,:,:,:].to('cuda:0')\n",
        "      target = encode_y[b*batch_size:(b+1)*batch_size,:].to('cuda:0')\n",
        "      scores = model.forward(data,32)\n",
        "      loss = criterionKL(scores,target)\n",
        "      # print(f'EPOCH: {epochs+1}, BATCH: {b+1}, LOSS: {loss}')\n",
        "      tloss+=loss.item()\n",
        "      optimizer.zero_grad()\n",
        "      loss.backward()\n",
        "      optimizer.step()\n",
        "    # print(f'LR BEFORE: {optimizer.param_groups[0][\"lr\"]}')\n",
        "    # scheduler_LR.step()\n",
        "    # print(f'LR AFTER: {optimizer.param_groups[0][\"lr\"]}')\n",
        "    score_val = model.forward(test_x[:1000].to('cuda:0'),1000)\n",
        "    pred_val = torch.argmax(score_val, dim=1)\n",
        "    finalacc_val = acc_met(pred_val, test_y[:1000].to('cuda:0'))\n",
        "    score_tr = model.forward(train_x[:1000].to('cuda:0'),1000).to('cuda:0')\n",
        "    pred_tr = torch.argmax(score_tr, dim=1)\n",
        "    finalacc_tr = acc_met(pred_tr, train_y[:1000].to('cuda:0'))  \n",
        "    valaccs[epochs]=finalacc_val\n",
        "    trainaccs[epochs]=finalacc_tr\n",
        "    val_loss[epochs]=criterionKL(score_val,encode_test[:1000].to('cuda:0')).item()\n",
        "    train_loss[epochs]=tloss\n",
        "    print(f'VAL ACC EPOCH = {epochs+1}: {finalacc_val}')\n",
        "    print(f'TRAIN ACC EPOCH {epochs+1}: {finalacc_tr}')\n",
        "print(train_loss)\n",
        "print(val_loss)\n",
        "train_loss = train_loss/499.84\n",
        "val_loss = val_loss/10\n",
        "print(train_loss)\n",
        "print(val_loss)\n",
        "loss_t = train_loss.detach().numpy()\n",
        "loss_v = val_loss.detach().numpy()"
      ]
    },
    {
      "cell_type": "code",
      "source": [
        "print(trainaccs)\n",
        "print(valaccs)"
      ],
      "metadata": {
        "colab": {
          "base_uri": "https://localhost:8080/"
        },
        "id": "S44qrSOBjvWe",
        "outputId": "af1d90fa-8462-478b-8db7-7838da1d3a94"
      },
      "execution_count": 10,
      "outputs": [
        {
          "output_type": "stream",
          "name": "stdout",
          "text": [
            "tensor([0.6200, 0.6970, 0.7290, 0.7410, 0.7570, 0.7850, 0.8030, 0.8190, 0.8110,\n",
            "        0.8220, 0.8360, 0.8500, 0.8650, 0.8680, 0.8690, 0.8680, 0.8900, 0.8750,\n",
            "        0.8770, 0.8810])\n",
            "tensor([0.6160, 0.6690, 0.6970, 0.7030, 0.7050, 0.7090, 0.7230, 0.7100, 0.7030,\n",
            "        0.6910, 0.6880, 0.6880, 0.7040, 0.7070, 0.7080, 0.7100, 0.6920, 0.6900,\n",
            "        0.6860, 0.6950])\n"
          ]
        }
      ]
    },
    {
      "cell_type": "code",
      "execution_count": 12,
      "metadata": {
        "colab": {
          "base_uri": "https://localhost:8080/",
          "height": 547
        },
        "id": "zE_9vvFSjjc4",
        "outputId": "65c53e24-8c36-4ae5-9e2c-db8dfc252ebe"
      },
      "outputs": [
        {
          "output_type": "display_data",
          "data": {
            "text/plain": [
              "<Figure size 800x600 with 1 Axes>"
            ],
            "image/png": "[encoded data removed]"
          },
          "metadata": {}
        }
      ],
      "source": [
        "#Plots of accuracy:\n",
        "plt.figure(figsize=(8,6))\n",
        "plt.xlabel('Epochs')\n",
        "plt.ylabel('Accuracy')\n",
        "eps = np.arange(1,21)\n",
        "plt.ylim(0,1)\n",
        "plt.xticks(np.arange(0,20))\n",
        "plt.plot(eps,trainaccs,'orange',label=\"Train data\")\n",
        "plt.plot(eps,valaccs, 'green', label='Validation data')\n",
        "plt.legend()\n",
        "plt.show()"
      ]
    },
    {
      "cell_type": "code",
      "execution_count": 13,
      "metadata": {
        "colab": {
          "base_uri": "https://localhost:8080/",
          "height": 542
        },
        "id": "11ENePbOjjc4",
        "outputId": "569ea0f2-a201-4e72-a0af-ff872bd655c9"
      },
      "outputs": [
        {
          "output_type": "display_data",
          "data": {
            "text/plain": [
              "<Figure size 800x600 with 1 Axes>"
            ],
            "image/png": "[encoded data removed]"
          },
          "metadata": {}
        }
      ],
      "source": [
        "#Plots of loss:\n",
        "plt.figure(figsize=(8,6))\n",
        "plt.xlabel('Epochs')\n",
        "plt.ylabel('Cross Entropy Loss')\n",
        "eps = np.arange(1,21)\n",
        "# plt.ylim(90,95)\n",
        "plt.xticks(np.arange(0,20))\n",
        "# plt.plot(eps,loss_t,'purple',label=\"Train data\")\n",
        "plt.plot(eps,loss_v, 'green', label='Validation data')\n",
        "plt.legend()\n",
        "plt.show()"
      ]
    },
    {
      "cell_type": "code",
      "execution_count": 14,
      "metadata": {
        "colab": {
          "base_uri": "https://localhost:8080/",
          "height": 611
        },
        "id": "dK_uils3jjc4",
        "outputId": "bbd31341-ef8c-4f7a-c532-ba599bb0e93f"
      },
      "outputs": [
        {
          "output_type": "stream",
          "name": "stderr",
          "text": [
            "WARNING:matplotlib.legend:No artists with labels found to put in legend.  Note that artists whose label start with an underscore are ignored when legend() is called with no argument.\n"
          ]
        },
        {
          "output_type": "stream",
          "name": "stdout",
          "text": [
            "tensor(0.6950, device='cuda:0')\n",
            "tensor([0.6990, 0.7640, 0.5000, 0.5922, 0.5889, 0.5930, 0.8125, 0.7843, 0.8302,\n",
            "        0.7431], device='cuda:0')\n"
          ]
        },
        {
          "output_type": "display_data",
          "data": {
            "text/plain": [
              "<Figure size 800x600 with 1 Axes>"
            ],
            "image/png": "[encoded data removed]"
          },
          "metadata": {}
        }
      ],
      "source": [
        "metric = MulticlassAccuracy(num_classes=10, average=None).to('cuda:0')\n",
        "pred_y = torch.argmax(score_val, dim=1)\n",
        "classwise = metric(score_val, test_y[:1000].to('cuda:0'))\n",
        "val_acc_met = Accuracy(task=\"multiclass\", num_classes=10).to('cuda:0')\n",
        "finalacc = val_acc_met(pred_y, test_y[:1000].to('cuda:0'))\n",
        "print(finalacc)\n",
        "print(classwise)\n",
        "###BAR GRAPH OF CLASSWISE ACCURACY\n",
        "plt.figure(figsize=(8,6))\n",
        "classes = np.arange(0,10)\n",
        "plt.xticks(classes)\n",
        "plt.bar(classes, classwise.to('cpu'), color='purple',width=0.4)\n",
        "plt.xlabel('Classes')\n",
        "plt.ylabel('Accuracy')\n",
        "plt.legend()\n",
        "plt.show()"
      ]
    },
    {
      "cell_type": "code",
      "execution_count": null,
      "metadata": {
        "id": "RIThVpTEjjc4"
      },
      "outputs": [],
      "source": []
    }
  ],
  "metadata": {
    "kernelspec": {
      "display_name": "Python 3.9.12 ('base')",
      "language": "python",
      "name": "python3"
    },
    "language_info": {
      "codemirror_mode": {
        "name": "ipython",
        "version": 3
      },
      "file_extension": ".py",
      "mimetype": "text/x-python",
      "name": "python",
      "nbconvert_exporter": "python",
      "pygments_lexer": "ipython3",
      "version": "3.9.12"
    },
    "orig_nbformat": 4,
    "vscode": {
      "interpreter": {
        "hash": "73cba7173f8447e209b3236db8d7a4c2baa473635286a4d66150d0ea51f721be"
      }
    },
    "colab": {
      "provenance": []
    },
    "accelerator": "GPU",
    "gpuClass": "standard",
    "widgets": {
      "application/vnd.jupyter.widget-state+json": {
        "dbac80225549415fb03c2dbf4dcace1a": {
          "model_module": "@jupyter-widgets/controls",
          "model_name": "HBoxModel",
          "model_module_version": "1.5.0",
          "state": {
            "_dom_classes": [],
            "_model_module": "@jupyter-widgets/controls",
            "_model_module_version": "1.5.0",
            "_model_name": "HBoxModel",
            "_view_count": null,
            "_view_module": "@jupyter-widgets/controls",
            "_view_module_version": "1.5.0",
            "_view_name": "HBoxView",
            "box_style": "",
            "children": [
              "IPY_MODEL_b05fd798e2a448599b289e95d942355b",
              "IPY_MODEL_2568aef6ebf6438ebf244352a5e7b9dd",
              "IPY_MODEL_24183cc189ec49f89ed063f94ff617fb"
            ],
            "layout": "IPY_MODEL_24a3975cd78a482aa1768e5cc1c23f2f"
          }
        },
        "b05fd798e2a448599b289e95d942355b": {
          "model_module": "@jupyter-widgets/controls",
          "model_name": "HTMLModel",
          "model_module_version": "1.5.0",
          "state": {
            "_dom_classes": [],
            "_model_module": "@jupyter-widgets/controls",
            "_model_module_version": "1.5.0",
            "_model_name": "HTMLModel",
            "_view_count": null,
            "_view_module": "@jupyter-widgets/controls",
            "_view_module_version": "1.5.0",
            "_view_name": "HTMLView",
            "description": "",
            "description_tooltip": null,
            "layout": "IPY_MODEL_388c0d32ea5048ac8312430a97ae2172",
            "placeholder": "​",
            "style": "IPY_MODEL_7fcaf82805584a039501eebc1514d90d",
            "value": "100%"
          }
        },
        "2568aef6ebf6438ebf244352a5e7b9dd": {
          "model_module": "@jupyter-widgets/controls",
          "model_name": "FloatProgressModel",
          "model_module_version": "1.5.0",
          "state": {
            "_dom_classes": [],
            "_model_module": "@jupyter-widgets/controls",
            "_model_module_version": "1.5.0",
            "_model_name": "FloatProgressModel",
            "_view_count": null,
            "_view_module": "@jupyter-widgets/controls",
            "_view_module_version": "1.5.0",
            "_view_name": "ProgressView",
            "bar_style": "success",
            "description": "",
            "description_tooltip": null,
            "layout": "IPY_MODEL_50d2baafa1c8456f98e98abc97086c68",
            "max": 170498071,
            "min": 0,
            "orientation": "horizontal",
            "style": "IPY_MODEL_7081c7e1f19648deb35c0715b66516a6",
            "value": 170498071
          }
        },
        "24183cc189ec49f89ed063f94ff617fb": {
          "model_module": "@jupyter-widgets/controls",
          "model_name": "HTMLModel",
          "model_module_version": "1.5.0",
          "state": {
            "_dom_classes": [],
            "_model_module": "@jupyter-widgets/controls",
            "_model_module_version": "1.5.0",
            "_model_name": "HTMLModel",
            "_view_count": null,
            "_view_module": "@jupyter-widgets/controls",
            "_view_module_version": "1.5.0",
            "_view_name": "HTMLView",
            "description": "",
            "description_tooltip": null,
            "layout": "IPY_MODEL_ff1f948f3b754c679532182c34a19a02",
            "placeholder": "​",
            "style": "IPY_MODEL_0394c30b93c84c1ea37e76c08ee84dc1",
            "value": " 170498071/170498071 [00:02&lt;00:00, 75597263.05it/s]"
          }
        },
        "24a3975cd78a482aa1768e5cc1c23f2f": {
          "model_module": "@jupyter-widgets/base",
          "model_name": "LayoutModel",
          "model_module_version": "1.2.0",
          "state": {
            "_model_module": "@jupyter-widgets/base",
            "_model_module_version": "1.2.0",
            "_model_name": "LayoutModel",
            "_view_count": null,
            "_view_module": "@jupyter-widgets/base",
            "_view_module_version": "1.2.0",
            "_view_name": "LayoutView",
            "align_content": null,
            "align_items": null,
            "align_self": null,
            "border": null,
            "bottom": null,
            "display": null,
            "flex": null,
            "flex_flow": null,
            "grid_area": null,
            "grid_auto_columns": null,
            "grid_auto_flow": null,
            "grid_auto_rows": null,
            "grid_column": null,
            "grid_gap": null,
            "grid_row": null,
            "grid_template_areas": null,
            "grid_template_columns": null,
            "grid_template_rows": null,
            "height": null,
            "justify_content": null,
            "justify_items": null,
            "left": null,
            "margin": null,
            "max_height": null,
            "max_width": null,
            "min_height": null,
            "min_width": null,
            "object_fit": null,
            "object_position": null,
            "order": null,
            "overflow": null,
            "overflow_x": null,
            "overflow_y": null,
            "padding": null,
            "right": null,
            "top": null,
            "visibility": null,
            "width": null
          }
        },
        "388c0d32ea5048ac8312430a97ae2172": {
          "model_module": "@jupyter-widgets/base",
          "model_name": "LayoutModel",
          "model_module_version": "1.2.0",
          "state": {
            "_model_module": "@jupyter-widgets/base",
            "_model_module_version": "1.2.0",
            "_model_name": "LayoutModel",
            "_view_count": null,
            "_view_module": "@jupyter-widgets/base",
            "_view_module_version": "1.2.0",
            "_view_name": "LayoutView",
            "align_content": null,
            "align_items": null,
            "align_self": null,
            "border": null,
            "bottom": null,
            "display": null,
            "flex": null,
            "flex_flow": null,
            "grid_area": null,
            "grid_auto_columns": null,
            "grid_auto_flow": null,
            "grid_auto_rows": null,
            "grid_column": null,
            "grid_gap": null,
            "grid_row": null,
            "grid_template_areas": null,
            "grid_template_columns": null,
            "grid_template_rows": null,
            "height": null,
            "justify_content": null,
            "justify_items": null,
            "left": null,
            "margin": null,
            "max_height": null,
            "max_width": null,
            "min_height": null,
            "min_width": null,
            "object_fit": null,
            "object_position": null,
            "order": null,
            "overflow": null,
            "overflow_x": null,
            "overflow_y": null,
            "padding": null,
            "right": null,
            "top": null,
            "visibility": null,
            "width": null
          }
        },
        "7fcaf82805584a039501eebc1514d90d": {
          "model_module": "@jupyter-widgets/controls",
          "model_name": "DescriptionStyleModel",
          "model_module_version": "1.5.0",
          "state": {
            "_model_module": "@jupyter-widgets/controls",
            "_model_module_version": "1.5.0",
            "_model_name": "DescriptionStyleModel",
            "_view_count": null,
            "_view_module": "@jupyter-widgets/base",
            "_view_module_version": "1.2.0",
            "_view_name": "StyleView",
            "description_width": ""
          }
        },
        "50d2baafa1c8456f98e98abc97086c68": {
          "model_module": "@jupyter-widgets/base",
          "model_name": "LayoutModel",
          "model_module_version": "1.2.0",
          "state": {
            "_model_module": "@jupyter-widgets/base",
            "_model_module_version": "1.2.0",
            "_model_name": "LayoutModel",
            "_view_count": null,
            "_view_module": "@jupyter-widgets/base",
            "_view_module_version": "1.2.0",
            "_view_name": "LayoutView",
            "align_content": null,
            "align_items": null,
            "align_self": null,
            "border": null,
            "bottom": null,
            "display": null,
            "flex": null,
            "flex_flow": null,
            "grid_area": null,
            "grid_auto_columns": null,
            "grid_auto_flow": null,
            "grid_auto_rows": null,
            "grid_column": null,
            "grid_gap": null,
            "grid_row": null,
            "grid_template_areas": null,
            "grid_template_columns": null,
            "grid_template_rows": null,
            "height": null,
            "justify_content": null,
            "justify_items": null,
            "left": null,
            "margin": null,
            "max_height": null,
            "max_width": null,
            "min_height": null,
            "min_width": null,
            "object_fit": null,
            "object_position": null,
            "order": null,
            "overflow": null,
            "overflow_x": null,
            "overflow_y": null,
            "padding": null,
            "right": null,
            "top": null,
            "visibility": null,
            "width": null
          }
        },
        "7081c7e1f19648deb35c0715b66516a6": {
          "model_module": "@jupyter-widgets/controls",
          "model_name": "ProgressStyleModel",
          "model_module_version": "1.5.0",
          "state": {
            "_model_module": "@jupyter-widgets/controls",
            "_model_module_version": "1.5.0",
            "_model_name": "ProgressStyleModel",
            "_view_count": null,
            "_view_module": "@jupyter-widgets/base",
            "_view_module_version": "1.2.0",
            "_view_name": "StyleView",
            "bar_color": null,
            "description_width": ""
          }
        },
        "ff1f948f3b754c679532182c34a19a02": {
          "model_module": "@jupyter-widgets/base",
          "model_name": "LayoutModel",
          "model_module_version": "1.2.0",
          "state": {
            "_model_module": "@jupyter-widgets/base",
            "_model_module_version": "1.2.0",
            "_model_name": "LayoutModel",
            "_view_count": null,
            "_view_module": "@jupyter-widgets/base",
            "_view_module_version": "1.2.0",
            "_view_name": "LayoutView",
            "align_content": null,
            "align_items": null,
            "align_self": null,
            "border": null,
            "bottom": null,
            "display": null,
            "flex": null,
            "flex_flow": null,
            "grid_area": null,
            "grid_auto_columns": null,
            "grid_auto_flow": null,
            "grid_auto_rows": null,
            "grid_column": null,
            "grid_gap": null,
            "grid_row": null,
            "grid_template_areas": null,
            "grid_template_columns": null,
            "grid_template_rows": null,
            "height": null,
            "justify_content": null,
            "justify_items": null,
            "left": null,
            "margin": null,
            "max_height": null,
            "max_width": null,
            "min_height": null,
            "min_width": null,
            "object_fit": null,
            "object_position": null,
            "order": null,
            "overflow": null,
            "overflow_x": null,
            "overflow_y": null,
            "padding": null,
            "right": null,
            "top": null,
            "visibility": null,
            "width": null
          }
        },
        "0394c30b93c84c1ea37e76c08ee84dc1": {
          "model_module": "@jupyter-widgets/controls",
          "model_name": "DescriptionStyleModel",
          "model_module_version": "1.5.0",
          "state": {
            "_model_module": "@jupyter-widgets/controls",
            "_model_module_version": "1.5.0",
            "_model_name": "DescriptionStyleModel",
            "_view_count": null,
            "_view_module": "@jupyter-widgets/base",
            "_view_module_version": "1.2.0",
            "_view_name": "StyleView",
            "description_width": ""
          }
        }
      }
    }
  },
  "nbformat": 4,
  "nbformat_minor": 0
}
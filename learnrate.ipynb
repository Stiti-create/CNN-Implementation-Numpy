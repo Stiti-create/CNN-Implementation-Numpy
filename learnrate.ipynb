{
  "cells": [
    {
      "cell_type": "code",
      "execution_count": 1,
      "metadata": {
        "colab": {
          "base_uri": "https://localhost:8080/",
          "height": 487
        },
        "id": "0sIiWEnGfIAd",
        "outputId": "89e8f694-c22d-49dd-c2f5-c84fd2bf4903"
      },
      "outputs": [
        {
          "name": "stdout",
          "output_type": "stream",
          "text": [
            "Looking in indexes: https://pypi.org/simple, https://us-python.pkg.dev/colab-wheels/public/simple/\n",
            "Collecting torch==1.12.1\n",
            "  Downloading torch-1.12.1-cp310-cp310-manylinux1_x86_64.whl (776.3 MB)\n",
            "\u001b[2K     \u001b[90m━━━━━━━━━━━━━━━━━━━━━━━━━━━━━━━━━━━━━\u001b[0m \u001b[32m776.3/776.3 MB\u001b[0m \u001b[31m995.9 kB/s\u001b[0m eta \u001b[36m0:00:00\u001b[0m\n",
            "\u001b[?25hRequirement already satisfied: typing-extensions in /usr/local/lib/python3.10/dist-packages (from torch==1.12.1) (4.5.0)\n",
            "Installing collected packages: torch\n",
            "  Attempting uninstall: torch\n",
            "    Found existing installation: torch 2.0.0+cu118\n",
            "    Uninstalling torch-2.0.0+cu118:\n",
            "      Successfully uninstalled torch-2.0.0+cu118\n",
            "\u001b[31mERROR: pip's dependency resolver does not currently take into account all the packages that are installed. This behaviour is the source of the following dependency conflicts.\n",
            "torchvision 0.15.1+cu118 requires torch==2.0.0, but you have torch 1.12.1 which is incompatible.\n",
            "torchtext 0.15.1 requires torch==2.0.0, but you have torch 1.12.1 which is incompatible.\n",
            "torchdata 0.6.0 requires torch==2.0.0, but you have torch 1.12.1 which is incompatible.\n",
            "torchaudio 2.0.1+cu118 requires torch==2.0.0, but you have torch 1.12.1 which is incompatible.\u001b[0m\u001b[31m\n",
            "\u001b[0mSuccessfully installed torch-1.12.1\n",
            "Looking in indexes: https://pypi.org/simple, https://us-python.pkg.dev/colab-wheels/public/simple/\n",
            "Collecting torchmetrics\n",
            "  Downloading torchmetrics-0.11.4-py3-none-any.whl (519 kB)\n",
            "\u001b[2K     \u001b[90m━━━━━━━━━━━━━━━━━━━━━━━━━━━━━━━━━━━━━━\u001b[0m \u001b[32m519.2/519.2 kB\u001b[0m \u001b[31m10.0 MB/s\u001b[0m eta \u001b[36m0:00:00\u001b[0m\n",
            "\u001b[?25hRequirement already satisfied: numpy>=1.17.2 in /usr/local/lib/python3.10/dist-packages (from torchmetrics) (1.24.3)\n",
            "Requirement already satisfied: packaging in /usr/local/lib/python3.10/dist-packages (from torchmetrics) (23.1)\n",
            "Requirement already satisfied: torch>=1.8.1 in /usr/local/lib/python3.10/dist-packages (from torchmetrics) (1.12.1)\n",
            "Requirement already satisfied: typing-extensions in /usr/local/lib/python3.10/dist-packages (from torch>=1.8.1->torchmetrics) (4.5.0)\n",
            "Installing collected packages: torchmetrics\n",
            "Successfully installed torchmetrics-0.11.4\n"
          ]
        },
        {
          "data": {
            "application/vnd.google.colaboratory.intrinsic+json": {
              "type": "string"
            },
            "text/plain": [
              "'1.12.1+cu102'"
            ]
          },
          "execution_count": 1,
          "metadata": {},
          "output_type": "execute_result"
        }
      ],
      "source": [
        "!pip install torch==1.12.1\n",
        "!pip install torchmetrics\n",
        "import torch\n",
        "torch.__version__"
      ]
    },
    {
      "cell_type": "code",
      "execution_count": 2,
      "metadata": {
        "colab": {
          "base_uri": "https://localhost:8080/"
        },
        "id": "aMNg4xACfIAe",
        "outputId": "b7779924-d276-4e8a-f2bb-d6aec896c0d2"
      },
      "outputs": [
        {
          "name": "stderr",
          "output_type": "stream",
          "text": [
            "/usr/local/lib/python3.10/dist-packages/torchvision/io/image.py:13: UserWarning: Failed to load image Python extension: '/usr/local/lib/python3.10/dist-packages/torchvision/image.so: undefined symbol: _ZN3c104impl8GPUTrace13gpuTraceStateE'If you don't plan on using image functionality from `torchvision.io`, you can ignore this warning. Otherwise, there might be something wrong with your environment. Did you have `libjpeg` or `libpng` installed before building `torchvision` from source?\n",
            "  warn(\n"
          ]
        }
      ],
      "source": [
        "#Import torch dependencies\n",
        "import torchvision\n",
        "import torchvision.transforms as transforms\n",
        "from torchmetrics.classification import MulticlassAccuracy\n",
        "from torchmetrics import Accuracy\n",
        "# file unpickle \n",
        "def unpickle(file):\n",
        "    import pickle\n",
        "    with open(file, 'rb') as fo:\n",
        "        dict = pickle.load(fo, encoding='bytes')\n",
        "    return dict"
      ]
    },
    {
      "cell_type": "code",
      "execution_count": 3,
      "metadata": {
        "id": "dWjViSy9fIAe"
      },
      "outputs": [],
      "source": [
        "#Data loader: \n",
        "transform = transforms.Compose([transforms.ToTensor(),transforms.RandomHorizontalFlip(p=1)])\n",
        "batch_size = 10000"
      ]
    },
    {
      "cell_type": "code",
      "execution_count": 4,
      "metadata": {
        "colab": {
          "base_uri": "https://localhost:8080/",
          "height": 101,
          "referenced_widgets": [
            "9f4f8a142c4b47c6bd7bdcee21bbd007",
            "7fe46a3ff93b4f8cb9308a79dbaa817b",
            "b818d056f8e64b28b6f774b887b68b49",
            "45333eecd85c4aa6916f4aa4a809bb72",
            "5e843079fe414c44a235cecf06e3e01d",
            "febd12c6591748aa8d4e044ae5a001ac",
            "8c64488919964c03b3ec650efe088562",
            "363220d9d14c49c1905987eee1f21095",
            "cf2ff3efca114ad3800837858bb89ffc",
            "d57e9c4bd64744e1957b85967c3a0be1",
            "55df8be2552049d0b1390061997bfe0a"
          ]
        },
        "id": "5T1FulwlfIAf",
        "outputId": "85680154-9337-4828-9764-ad6929c2d118"
      },
      "outputs": [
        {
          "name": "stdout",
          "output_type": "stream",
          "text": [
            "Downloading https://www.cs.toronto.edu/~kriz/cifar-10-python.tar.gz to ./data/cifar-10-python.tar.gz\n"
          ]
        },
        {
          "data": {
            "application/vnd.jupyter.widget-view+json": {
              "model_id": "9f4f8a142c4b47c6bd7bdcee21bbd007",
              "version_major": 2,
              "version_minor": 0
            },
            "text/plain": [
              "  0%|          | 0/170498071 [00:00<?, ?it/s]"
            ]
          },
          "metadata": {},
          "output_type": "display_data"
        },
        {
          "name": "stdout",
          "output_type": "stream",
          "text": [
            "Extracting ./data/cifar-10-python.tar.gz to ./data\n",
            "Files already downloaded and verified\n"
          ]
        }
      ],
      "source": [
        "trainset = torchvision.datasets.CIFAR10(root='./data', train=True,download=True, transform=transform)\n",
        "trainloader = torch.utils.data.DataLoader(trainset, batch_size=batch_size,shuffle=True, num_workers=2)\n",
        "testset = torchvision.datasets.CIFAR10(root='./data', train=False,download=True, transform=transform)\n",
        "testloader = torch.utils.data.DataLoader(testset, batch_size=batch_size,shuffle=False, num_workers=2)"
      ]
    },
    {
      "cell_type": "code",
      "execution_count": null,
      "metadata": {
        "id": "SSxtnigNfIAf"
      },
      "outputs": [],
      "source": [
        "#dropout\n",
        "#batch norm\n",
        "#group norm\n",
        "#resnet\n",
        "#dla\n",
        "#vgg"
      ]
    },
    {
      "cell_type": "code",
      "execution_count": 5,
      "metadata": {
        "colab": {
          "base_uri": "https://localhost:8080/"
        },
        "id": "p5MZvuWPfIAg",
        "outputId": "1b52b478-2725-4ee2-d359-166ef669a4c8"
      },
      "outputs": [
        {
          "name": "stderr",
          "output_type": "stream",
          "text": [
            "<ipython-input-5-043a4d172dbf>:26: UserWarning: To copy construct from a tensor, it is recommended to use sourceTensor.clone().detach() or sourceTensor.clone().detach().requires_grad_(True), rather than torch.tensor(sourceTensor).\n",
            "  encode_y = torch.tensor(encode_y, dtype=torch.float)\n",
            "<ipython-input-5-043a4d172dbf>:28: UserWarning: To copy construct from a tensor, it is recommended to use sourceTensor.clone().detach() or sourceTensor.clone().detach().requires_grad_(True), rather than torch.tensor(sourceTensor).\n",
            "  encode_test = torch.tensor(encode_test, dtype=torch.float)\n"
          ]
        }
      ],
      "source": [
        "dict1 = unpickle(file='./data/cifar-10-batches-py/data_batch_1')\n",
        "dict2 = unpickle(file='./data/cifar-10-batches-py/data_batch_2')\n",
        "dict3 = unpickle(file='./data/cifar-10-batches-py/data_batch_3')\n",
        "dict4 = unpickle(file='./data/cifar-10-batches-py/data_batch_4')\n",
        "dict5 = unpickle(file='./data/cifar-10-batches-py/data_batch_5')\n",
        "dict_test = unpickle(file='./data/cifar-10-batches-py/test_batch')\n",
        "train_x1 = torch.tensor(dict1[b'data'])\n",
        "train_y1 = torch.tensor(dict1[b'labels'])\n",
        "train_x2 = torch.tensor(dict2[b'data'])\n",
        "train_y2 = torch.tensor(dict2[b'labels'])\n",
        "train_x3 = torch.tensor(dict3[b'data'])\n",
        "train_y3 = torch.tensor(dict3[b'labels'])\n",
        "train_x4 = torch.tensor(dict4[b'data'])\n",
        "train_y4 = torch.tensor(dict4[b'labels'])\n",
        "train_x5 = torch.tensor(dict5[b'data'])\n",
        "train_y5 = torch.tensor(dict5[b'labels'])\n",
        "test_x = torch.tensor(dict_test[b'data'])\n",
        "test_y = torch.tensor(dict_test[b'labels'])\n",
        "train_x = torch.cat((train_x1, train_x2, train_x3, train_x4, train_x5), dim=0)\n",
        "train_y = torch.cat((train_y1, train_y2, train_y3, train_y4, train_y5), dim=0)\n",
        "train_x = torch.reshape(train_x, (50000, 3, 32, 32))\n",
        "train_x = train_x/255\n",
        "test_x = torch.reshape(test_x, (10000, 3, 32, 32))\n",
        "test_x = test_x/255\n",
        "encode_y = torch.nn.functional.one_hot(train_y.clone().detach(), num_classes=10)\n",
        "encode_y = torch.tensor(encode_y, dtype=torch.float)\n",
        "encode_test = torch.nn.functional.one_hot(test_y.clone().detach(), num_classes=10)\n",
        "encode_test = torch.tensor(encode_test, dtype=torch.float)"
      ]
    },
    {
      "cell_type": "code",
      "execution_count": null,
      "metadata": {},
      "outputs": [],
      "source": [
        "train_x.to('cuda:0')\n",
        "train_y.to('cuda:0')\n",
        "test_x.to('cuda:0')\n",
        "test_y.to('cuda:0')\n",
        "encode_y.to('cuda:0')\n",
        "encode_test.to('cuda:0')"
      ]
    },
    {
      "cell_type": "code",
      "execution_count": 6,
      "metadata": {
        "id": "mwm83f3EfIAg"
      },
      "outputs": [],
      "source": [
        "import matplotlib.pyplot as plt\n",
        "import numpy as np\n",
        "#(For plots and losses)"
      ]
    },
    {
      "cell_type": "code",
      "execution_count": 7,
      "metadata": {
        "id": "4hPM31GcfIAg"
      },
      "outputs": [],
      "source": [
        "class CNN_Model(torch.nn.Module):\n",
        "    def __init__(self) -> None:\n",
        "        super().__init__()\n",
        "        self.conv1 = torch.nn.Conv2d(in_channels=3,out_channels=32,kernel_size=(3,3),stride=(1,1), padding=(1,1), padding_mode='zeros', bias=True)\n",
        "        self.maxpool = torch.nn.MaxPool2d((2,2), stride=(2,2), padding=0)\n",
        "        self.conv2 = torch.nn.Conv2d(32,64,(5,5),stride=(1,1), padding=(1,1), padding_mode='zeros', bias=True)\n",
        "        self.conv3 = torch.nn.Conv2d(64,64,(3,3),stride=(1,1), padding=(1,1), padding_mode='zeros', bias=True)\n",
        "        self.fc1 = torch.nn.Linear(64*7*7, 64)\n",
        "        self.fc2 = torch.nn.Linear(64, 10)\n",
        "        self.softmax = torch.nn.LogSoftmax(dim=1)\n",
        "\n",
        "    def forward(self, x, batch_size):\n",
        "        x = self.conv1(x)\n",
        "        x = torch.nn.functional.relu(x)\n",
        "        x = self.maxpool(x)\n",
        "        x = self.conv2(x)\n",
        "        x = torch.nn.functional.relu(x)\n",
        "        x = self.maxpool(x)\n",
        "        x = self.conv3(x)\n",
        "        x = torch.nn.functional.relu(x)\n",
        "        x = torch.reshape(x, (batch_size, -1))\n",
        "        x = self.fc1(x)\n",
        "        x = torch.nn.functional.relu(x)\n",
        "        x = self.fc2(x)\n",
        "        logits = self.softmax(x)\n",
        "        return logits\n"
      ]
    },
    {
      "cell_type": "code",
      "execution_count": 11,
      "metadata": {
        "colab": {
          "base_uri": "https://localhost:8080/"
        },
        "id": "J-KXGiGEfjn2",
        "outputId": "24682275-a95e-4a6e-abe0-828709b5bf8d"
      },
      "outputs": [
        {
          "name": "stdout",
          "output_type": "stream",
          "text": [
            "----EPOCH 1-----\n",
            "VAL ACC EPOCH = 1: 0.5899999737739563\n",
            "TRAIN ACC EPOCH 1: 0.5699999928474426\n",
            "----EPOCH 2-----\n",
            "VAL ACC EPOCH = 2: 0.6729999780654907\n",
            "TRAIN ACC EPOCH 2: 0.6610000133514404\n",
            "----EPOCH 3-----\n",
            "VAL ACC EPOCH = 3: 0.6909999847412109\n",
            "TRAIN ACC EPOCH 3: 0.7020000219345093\n",
            "----EPOCH 4-----\n",
            "VAL ACC EPOCH = 4: 0.7009999752044678\n",
            "TRAIN ACC EPOCH 4: 0.7329999804496765\n",
            "----EPOCH 5-----\n",
            "VAL ACC EPOCH = 5: 0.7200000286102295\n",
            "TRAIN ACC EPOCH 5: 0.7440000176429749\n",
            "----EPOCH 6-----\n",
            "VAL ACC EPOCH = 6: 0.6949999928474426\n",
            "TRAIN ACC EPOCH 6: 0.7369999885559082\n",
            "----EPOCH 7-----\n",
            "VAL ACC EPOCH = 7: 0.6909999847412109\n",
            "TRAIN ACC EPOCH 7: 0.746999979019165\n",
            "----EPOCH 8-----\n",
            "VAL ACC EPOCH = 8: 0.7039999961853027\n",
            "TRAIN ACC EPOCH 8: 0.7580000162124634\n",
            "----EPOCH 9-----\n",
            "VAL ACC EPOCH = 9: 0.7139999866485596\n",
            "TRAIN ACC EPOCH 9: 0.8029999732971191\n",
            "----EPOCH 10-----\n",
            "VAL ACC EPOCH = 10: 0.7099999785423279\n",
            "TRAIN ACC EPOCH 10: 0.8190000057220459\n",
            "----EPOCH 11-----\n",
            "VAL ACC EPOCH = 11: 0.6949999928474426\n",
            "TRAIN ACC EPOCH 11: 0.8059999942779541\n",
            "----EPOCH 12-----\n",
            "VAL ACC EPOCH = 12: 0.6650000214576721\n",
            "TRAIN ACC EPOCH 12: 0.7870000004768372\n",
            "----EPOCH 13-----\n",
            "VAL ACC EPOCH = 13: 0.6690000295639038\n",
            "TRAIN ACC EPOCH 13: 0.7940000295639038\n",
            "----EPOCH 14-----\n",
            "VAL ACC EPOCH = 14: 0.6679999828338623\n",
            "TRAIN ACC EPOCH 14: 0.8240000009536743\n",
            "----EPOCH 15-----\n",
            "VAL ACC EPOCH = 15: 0.6669999957084656\n",
            "TRAIN ACC EPOCH 15: 0.8370000123977661\n",
            "----EPOCH 16-----\n",
            "VAL ACC EPOCH = 16: 0.6940000057220459\n",
            "TRAIN ACC EPOCH 16: 0.8799999952316284\n",
            "----EPOCH 17-----\n",
            "VAL ACC EPOCH = 17: 0.6859999895095825\n",
            "TRAIN ACC EPOCH 17: 0.8989999890327454\n",
            "----EPOCH 18-----\n",
            "VAL ACC EPOCH = 18: 0.6779999732971191\n",
            "TRAIN ACC EPOCH 18: 0.8790000081062317\n",
            "----EPOCH 19-----\n",
            "VAL ACC EPOCH = 19: 0.6890000104904175\n",
            "TRAIN ACC EPOCH 19: 0.8849999904632568\n",
            "----EPOCH 20-----\n",
            "VAL ACC EPOCH = 20: 0.6859999895095825\n",
            "TRAIN ACC EPOCH 20: 0.9049999713897705\n",
            "tensor([2320.8611, 1691.8088, 1412.4016, 1235.2119, 1102.7893, 1000.4318,\n",
            "         907.3509,  825.9540,  765.4579,  688.0619,  638.7194,  585.1105,\n",
            "         562.6476,  512.4421,  466.1303,  428.9043,  399.7799,  384.0531,\n",
            "         358.1672,  329.2685])\n",
            "tensor([1.1596, 0.9463, 0.8834, 0.8476, 0.8354, 0.8823, 0.9423, 0.9424, 0.9440,\n",
            "        1.0265, 1.1563, 1.3823, 1.4400, 1.4801, 1.6012, 1.5168, 1.5237, 1.6540,\n",
            "        1.7389, 1.8095])\n",
            "tensor([4.6432, 3.3847, 2.8257, 2.4712, 2.2063, 2.0015, 1.8153, 1.6524, 1.5314,\n",
            "        1.3766, 1.2778, 1.1706, 1.1257, 1.0252, 0.9326, 0.8581, 0.7998, 0.7684,\n",
            "        0.7166, 0.6587])\n",
            "tensor([0.1160, 0.0946, 0.0883, 0.0848, 0.0835, 0.0882, 0.0942, 0.0942, 0.0944,\n",
            "        0.1026, 0.1156, 0.1382, 0.1440, 0.1480, 0.1601, 0.1517, 0.1524, 0.1654,\n",
            "        0.1739, 0.1810])\n",
            "tensor([0.5700, 0.6610, 0.7020, 0.7330, 0.7440, 0.7370, 0.7470, 0.7580, 0.8030,\n",
            "        0.8190, 0.8060, 0.7870, 0.7940, 0.8240, 0.8370, 0.8800, 0.8990, 0.8790,\n",
            "        0.8850, 0.9050])\n",
            "tensor([0.5900, 0.6730, 0.6910, 0.7010, 0.7200, 0.6950, 0.6910, 0.7040, 0.7140,\n",
            "        0.7100, 0.6950, 0.6650, 0.6690, 0.6680, 0.6670, 0.6940, 0.6860, 0.6780,\n",
            "        0.6890, 0.6860])\n"
          ]
        }
      ],
      "source": [
        "epoch = 20\n",
        "batch_size = 32\n",
        "batches = 1562\n",
        "acc_met = Accuracy(task=\"multiclass\", num_classes=10).to('cuda:0')\n",
        "model = CNN_Model().to('cuda:0')\n",
        "criterion = torch.nn.CrossEntropyLoss()\n",
        "optimizer = torch.optim.Adam(model.parameters(), lr=0.001)\n",
        "# scheduler_LR = lr_scheduler.ExponentialLR(optimizer, gamma=0.99)\n",
        "trainaccs = torch.empty(epoch)\n",
        "valaccs = torch.empty(epoch)\n",
        "train_loss = torch.empty(epoch)\n",
        "val_loss = torch.empty(epoch)\n",
        "for epochs in range(epoch):\n",
        "    print(f'----EPOCH {epochs+1}-----')\n",
        "    tloss = 0\n",
        "    for b in range(batches):\n",
        "      data = train_x[b*batch_size:(b+1)*batch_size,:,:,:].to('cuda:0')\n",
        "      target = encode_y[b*batch_size:(b+1)*batch_size,:].to('cuda:0')\n",
        "      scores = model.forward(data,32)\n",
        "      loss = criterion(scores,target)\n",
        "      # print(f'EPOCH: {epochs+1}, BATCH: {b+1}, LOSS: {loss}')\n",
        "      tloss+=loss.item()\n",
        "      optimizer.zero_grad()\n",
        "      loss.backward()\n",
        "      optimizer.step()\n",
        "    # print(f'LR BEFORE: {optimizer.param_groups[0][\"lr\"]}')\n",
        "    # scheduler_LR.step()\n",
        "    # print(f'LR AFTER: {optimizer.param_groups[0][\"lr\"]}')\n",
        "    score_val = model.forward(test_x[:1000].to('cuda:0'),1000)\n",
        "    pred_val = torch.argmax(score_val, dim=1).to('cpu')\n",
        "    finalacc_val = acc_met(pred_val, test_y[:1000])\n",
        "    score_tr = model.forward(train_x[:1000].to('cuda:0'),1000).to('cuda:0')\n",
        "    pred_tr = torch.argmax(score_tr, dim=1).to('cpu')\n",
        "    finalacc_tr = acc_met(pred_tr, train_y[:1000])  \n",
        "    valaccs[epochs]=finalacc_val\n",
        "    trainaccs[epochs]=finalacc_tr\n",
        "    val_loss[epochs]=criterion(score_val,encode_test[:1000].to('cuda:0')).item()\n",
        "    train_loss[epochs]=tloss\n",
        "    print(f'VAL ACC EPOCH = {epochs+1}: {finalacc_val}')\n",
        "    print(f'TRAIN ACC EPOCH {epochs+1}: {finalacc_tr}')\n",
        "print(train_loss)\n",
        "print(val_loss)\n",
        "train_loss = train_loss/499.84\n",
        "val_loss = val_loss/10\n",
        "print(train_loss)\n",
        "print(val_loss)\n",
        "loss_t = train_loss.detach().numpy()\n",
        "loss_v = val_loss.detach().numpy()\n",
        "print(trainaccs)\n",
        "print(valaccs)"
      ]
    },
    {
      "cell_type": "code",
      "execution_count": 12,
      "metadata": {
        "colab": {
          "base_uri": "https://localhost:8080/",
          "height": 542
        },
        "id": "C98rHY0YfIAh",
        "outputId": "209478e5-30a9-4466-a36e-07d51ac0fc37"
      },
      "outputs": [
        {
          "data": {
            "image/png": "[encoded data removed]",
            "text/plain": [
              "<Figure size 800x600 with 1 Axes>"
            ]
          },
          "metadata": {},
          "output_type": "display_data"
        }
      ],
      "source": [
        "#Plots of accuracy:\n",
        "plt.figure(figsize=(8,6))\n",
        "plt.xlabel('Epochs')\n",
        "plt.ylabel('Accuracy')\n",
        "eps = np.arange(1,21)\n",
        "# plt.ylim(90,95)\n",
        "plt.xticks(np.arange(0,20))\n",
        "plt.plot(eps,trainaccs,'orange',label=\"Train data\")\n",
        "plt.plot(eps,valaccs, 'green', label='Validation data')\n",
        "plt.legend()\n",
        "plt.show()"
      ]
    },
    {
      "cell_type": "code",
      "execution_count": 13,
      "metadata": {
        "colab": {
          "base_uri": "https://localhost:8080/",
          "height": 542
        },
        "id": "nbDgFMnifIAh",
        "outputId": "44e70d1a-d536-4fa7-9dd9-7776dae14a4d"
      },
      "outputs": [
        {
          "data": {
            "image/png": "[encoded data removed]",
            "text/plain": [
              "<Figure size 800x600 with 1 Axes>"
            ]
          },
          "metadata": {},
          "output_type": "display_data"
        }
      ],
      "source": [
        "#Plots of loss:\n",
        "plt.figure(figsize=(8,6))\n",
        "plt.xlabel('Epochs')\n",
        "plt.ylabel('Cross Entropy Loss')\n",
        "eps = np.arange(1,21)\n",
        "# plt.ylim(90,95)\n",
        "plt.xticks(np.arange(0,20))\n",
        "plt.plot(eps,loss_t,'purple',label=\"Train data\")\n",
        "plt.plot(eps,loss_v, 'green', label='Validation data')\n",
        "plt.legend()\n",
        "plt.show()"
      ]
    },
    {
      "cell_type": "code",
      "execution_count": 14,
      "metadata": {
        "id": "U_QNx7HlfIAh"
      },
      "outputs": [],
      "source": [
        "###COMPARE DIFFERENT LEARNING RATES:\n",
        "loss1 = np.array([6.6126, 5.6835, 5.4495, 5.3000, 5.1790, 5.0811, 5.0014, 4.9343, 4.8771,\n",
        "        4.8264, 4.7791, 4.7340, 4.6905, 4.6481, 4.6070])\n",
        "loss2 = np.array([4.8653, 3.6573, 3.1862, 2.8779, 2.6409, 2.4466, 2.2700, 2.1135, 1.9730,\n",
        "        1.8376, 1.7420, 1.6335, 1.5481, 1.4443, 1.3547, 1.3146, 1.2454, 1.1907,\n",
        "        1.1475, 1.0778, 0.9883, 0.9565, 0.8862, 0.8662, 0.8134, 0.7863, 0.7771,\n",
        "        0.7353, 0.6883, 0.6879, 0.6746, 0.6109, 0.6046, 0.5638, 0.5293, 0.5496,\n",
        "        0.5270, 0.4853, 0.4909, 0.5053])\n",
        "loss3 = np.array([69.0353,  7.2338,  7.2340,  7.2340,  7.2340,  7.2340,  7.2340,  7.2340,\n",
        "         7.2340,  7.2340,  7.2340,  7.2340,  7.2340,  7.2340,  7.2340,  7.2340,\n",
        "         7.2340,  7.2340,  7.2340,  7.2340])"
      ]
    },
    {
      "cell_type": "code",
      "execution_count": 15,
      "metadata": {
        "colab": {
          "base_uri": "https://localhost:8080/",
          "height": 542
        },
        "id": "7MyNXoB0fIAh",
        "outputId": "5d5f6b31-ed71-4631-b533-f27fdcff926d"
      },
      "outputs": [
        {
          "data": {
            "image/png": "[encoded data removed]",
            "text/plain": [
              "<Figure size 800x600 with 1 Axes>"
            ]
          },
          "metadata": {},
          "output_type": "display_data"
        }
      ],
      "source": [
        "plt.figure(figsize=(8,6))\n",
        "plt.xlabel('Epochs')\n",
        "plt.ylabel('Train Data: Cross-entropy Loss')\n",
        "eps = np.arange(1,16)\n",
        "plt.ylim(0,15)\n",
        "plt.xticks(np.arange(0,16))\n",
        "plt.plot(eps,loss1[:15],'m',label=\"LR=0.00001\")\n",
        "plt.plot(eps,loss2[:15], 'g', label='LR=0.001')\n",
        "plt.plot(eps, loss3[:15],'cyan',label='LR=0.1')\n",
        "plt.legend()\n",
        "plt.show()"
      ]
    },
    {
      "cell_type": "code",
      "execution_count": 16,
      "metadata": {
        "colab": {
          "base_uri": "https://localhost:8080/",
          "height": 611
        },
        "id": "FrjaeF_ffIAi",
        "outputId": "cda65a08-2edb-42c4-aff6-2b8d11d3d0eb"
      },
      "outputs": [
        {
          "name": "stdout",
          "output_type": "stream",
          "text": [
            "tensor(0.6860)\n",
            "tensor([0.6214, 0.7753, 0.5200, 0.6990, 0.5667, 0.5349, 0.8036, 0.7549, 0.7358,\n",
            "        0.7982])\n"
          ]
        },
        {
          "name": "stderr",
          "output_type": "stream",
          "text": [
            "WARNING:matplotlib.legend:No artists with labels found to put in legend.  Note that artists whose label start with an underscore are ignored when legend() is called with no argument.\n"
          ]
        },
        {
          "data": {
            "image/png": "[encoded data removed]",
            "text/plain": [
              "<Figure size 800x600 with 1 Axes>"
            ]
          },
          "metadata": {},
          "output_type": "display_data"
        }
      ],
      "source": [
        "metric = MulticlassAccuracy(num_classes=10, average=None).to('cuda:0')\n",
        "pred_y = torch.argmax(score_val, dim=1)\n",
        "classwise = metric(score_val, test_y[:1000].to('cuda:0'))\n",
        "val_acc_met = Accuracy(task=\"multiclass\", num_classes=10).to('cuda:0')\n",
        "finalacc = val_acc_met(pred_y, test_y[:1000].to('cuda:0'))\n",
        "print(finalacc)\n",
        "print(classwise)\n",
        "###BAR GRAPH OF CLASSWISE ACCURACY\n",
        "plt.figure(figsize=(8,6))\n",
        "classes = np.arange(0,10)\n",
        "plt.xticks(classes)\n",
        "plt.bar(classes, classwise.to('cpu'), color='purple',width=0.4)\n",
        "plt.xlabel('Classes')\n",
        "plt.ylabel('Accuracy')\n",
        "plt.legend()\n",
        "plt.show()"
      ]
    },
    {
      "cell_type": "code",
      "execution_count": null,
      "metadata": {
        "id": "TVrym4UBfIAi"
      },
      "outputs": [],
      "source": []
    }
  ],
  "metadata": {
    "accelerator": "TPU",
    "colab": {
      "provenance": []
    },
    "gpuClass": "standard",
    "kernelspec": {
      "display_name": "Python 3.9.12 ('base')",
      "language": "python",
      "name": "python3"
    },
    "language_info": {
      "codemirror_mode": {
        "name": "ipython",
        "version": 3
      },
      "file_extension": ".py",
      "mimetype": "text/x-python",
      "name": "python",
      "nbconvert_exporter": "python",
      "pygments_lexer": "ipython3",
      "version": "3.9.12"
    },
    "orig_nbformat": 4,
    "vscode": {
      "interpreter": {
        "hash": "73cba7173f8447e209b3236db8d7a4c2baa473635286a4d66150d0ea51f721be"
      }
    },
    "widgets": {
      "application/vnd.jupyter.widget-state+json": {
        "363220d9d14c49c1905987eee1f21095": {
          "model_module": "@jupyter-widgets/base",
          "model_module_version": "1.2.0",
          "model_name": "LayoutModel",
          "state": {
            "_model_module": "@jupyter-widgets/base",
            "_model_module_version": "1.2.0",
            "_model_name": "LayoutModel",
            "_view_count": null,
            "_view_module": "@jupyter-widgets/base",
            "_view_module_version": "1.2.0",
            "_view_name": "LayoutView",
            "align_content": null,
            "align_items": null,
            "align_self": null,
            "border": null,
            "bottom": null,
            "display": null,
            "flex": null,
            "flex_flow": null,
            "grid_area": null,
            "grid_auto_columns": null,
            "grid_auto_flow": null,
            "grid_auto_rows": null,
            "grid_column": null,
            "grid_gap": null,
            "grid_row": null,
            "grid_template_areas": null,
            "grid_template_columns": null,
            "grid_template_rows": null,
            "height": null,
            "justify_content": null,
            "justify_items": null,
            "left": null,
            "margin": null,
            "max_height": null,
            "max_width": null,
            "min_height": null,
            "min_width": null,
            "object_fit": null,
            "object_position": null,
            "order": null,
            "overflow": null,
            "overflow_x": null,
            "overflow_y": null,
            "padding": null,
            "right": null,
            "top": null,
            "visibility": null,
            "width": null
          }
        },
        "45333eecd85c4aa6916f4aa4a809bb72": {
          "model_module": "@jupyter-widgets/controls",
          "model_module_version": "1.5.0",
          "model_name": "HTMLModel",
          "state": {
            "_dom_classes": [],
            "_model_module": "@jupyter-widgets/controls",
            "_model_module_version": "1.5.0",
            "_model_name": "HTMLModel",
            "_view_count": null,
            "_view_module": "@jupyter-widgets/controls",
            "_view_module_version": "1.5.0",
            "_view_name": "HTMLView",
            "description": "",
            "description_tooltip": null,
            "layout": "IPY_MODEL_d57e9c4bd64744e1957b85967c3a0be1",
            "placeholder": "​",
            "style": "IPY_MODEL_55df8be2552049d0b1390061997bfe0a",
            "value": " 170498071/170498071 [00:05&lt;00:00, 30193341.59it/s]"
          }
        },
        "55df8be2552049d0b1390061997bfe0a": {
          "model_module": "@jupyter-widgets/controls",
          "model_module_version": "1.5.0",
          "model_name": "DescriptionStyleModel",
          "state": {
            "_model_module": "@jupyter-widgets/controls",
            "_model_module_version": "1.5.0",
            "_model_name": "DescriptionStyleModel",
            "_view_count": null,
            "_view_module": "@jupyter-widgets/base",
            "_view_module_version": "1.2.0",
            "_view_name": "StyleView",
            "description_width": ""
          }
        },
        "5e843079fe414c44a235cecf06e3e01d": {
          "model_module": "@jupyter-widgets/base",
          "model_module_version": "1.2.0",
          "model_name": "LayoutModel",
          "state": {
            "_model_module": "@jupyter-widgets/base",
            "_model_module_version": "1.2.0",
            "_model_name": "LayoutModel",
            "_view_count": null,
            "_view_module": "@jupyter-widgets/base",
            "_view_module_version": "1.2.0",
            "_view_name": "LayoutView",
            "align_content": null,
            "align_items": null,
            "align_self": null,
            "border": null,
            "bottom": null,
            "display": null,
            "flex": null,
            "flex_flow": null,
            "grid_area": null,
            "grid_auto_columns": null,
            "grid_auto_flow": null,
            "grid_auto_rows": null,
            "grid_column": null,
            "grid_gap": null,
            "grid_row": null,
            "grid_template_areas": null,
            "grid_template_columns": null,
            "grid_template_rows": null,
            "height": null,
            "justify_content": null,
            "justify_items": null,
            "left": null,
            "margin": null,
            "max_height": null,
            "max_width": null,
            "min_height": null,
            "min_width": null,
            "object_fit": null,
            "object_position": null,
            "order": null,
            "overflow": null,
            "overflow_x": null,
            "overflow_y": null,
            "padding": null,
            "right": null,
            "top": null,
            "visibility": null,
            "width": null
          }
        },
        "7fe46a3ff93b4f8cb9308a79dbaa817b": {
          "model_module": "@jupyter-widgets/controls",
          "model_module_version": "1.5.0",
          "model_name": "HTMLModel",
          "state": {
            "_dom_classes": [],
            "_model_module": "@jupyter-widgets/controls",
            "_model_module_version": "1.5.0",
            "_model_name": "HTMLModel",
            "_view_count": null,
            "_view_module": "@jupyter-widgets/controls",
            "_view_module_version": "1.5.0",
            "_view_name": "HTMLView",
            "description": "",
            "description_tooltip": null,
            "layout": "IPY_MODEL_febd12c6591748aa8d4e044ae5a001ac",
            "placeholder": "​",
            "style": "IPY_MODEL_8c64488919964c03b3ec650efe088562",
            "value": "100%"
          }
        },
        "8c64488919964c03b3ec650efe088562": {
          "model_module": "@jupyter-widgets/controls",
          "model_module_version": "1.5.0",
          "model_name": "DescriptionStyleModel",
          "state": {
            "_model_module": "@jupyter-widgets/controls",
            "_model_module_version": "1.5.0",
            "_model_name": "DescriptionStyleModel",
            "_view_count": null,
            "_view_module": "@jupyter-widgets/base",
            "_view_module_version": "1.2.0",
            "_view_name": "StyleView",
            "description_width": ""
          }
        },
        "9f4f8a142c4b47c6bd7bdcee21bbd007": {
          "model_module": "@jupyter-widgets/controls",
          "model_module_version": "1.5.0",
          "model_name": "HBoxModel",
          "state": {
            "_dom_classes": [],
            "_model_module": "@jupyter-widgets/controls",
            "_model_module_version": "1.5.0",
            "_model_name": "HBoxModel",
            "_view_count": null,
            "_view_module": "@jupyter-widgets/controls",
            "_view_module_version": "1.5.0",
            "_view_name": "HBoxView",
            "box_style": "",
            "children": [
              "IPY_MODEL_7fe46a3ff93b4f8cb9308a79dbaa817b",
              "IPY_MODEL_b818d056f8e64b28b6f774b887b68b49",
              "IPY_MODEL_45333eecd85c4aa6916f4aa4a809bb72"
            ],
            "layout": "IPY_MODEL_5e843079fe414c44a235cecf06e3e01d"
          }
        },
        "b818d056f8e64b28b6f774b887b68b49": {
          "model_module": "@jupyter-widgets/controls",
          "model_module_version": "1.5.0",
          "model_name": "FloatProgressModel",
          "state": {
            "_dom_classes": [],
            "_model_module": "@jupyter-widgets/controls",
            "_model_module_version": "1.5.0",
            "_model_name": "FloatProgressModel",
            "_view_count": null,
            "_view_module": "@jupyter-widgets/controls",
            "_view_module_version": "1.5.0",
            "_view_name": "ProgressView",
            "bar_style": "success",
            "description": "",
            "description_tooltip": null,
            "layout": "IPY_MODEL_363220d9d14c49c1905987eee1f21095",
            "max": 170498071,
            "min": 0,
            "orientation": "horizontal",
            "style": "IPY_MODEL_cf2ff3efca114ad3800837858bb89ffc",
            "value": 170498071
          }
        },
        "cf2ff3efca114ad3800837858bb89ffc": {
          "model_module": "@jupyter-widgets/controls",
          "model_module_version": "1.5.0",
          "model_name": "ProgressStyleModel",
          "state": {
            "_model_module": "@jupyter-widgets/controls",
            "_model_module_version": "1.5.0",
            "_model_name": "ProgressStyleModel",
            "_view_count": null,
            "_view_module": "@jupyter-widgets/base",
            "_view_module_version": "1.2.0",
            "_view_name": "StyleView",
            "bar_color": null,
            "description_width": ""
          }
        },
        "d57e9c4bd64744e1957b85967c3a0be1": {
          "model_module": "@jupyter-widgets/base",
          "model_module_version": "1.2.0",
          "model_name": "LayoutModel",
          "state": {
            "_model_module": "@jupyter-widgets/base",
            "_model_module_version": "1.2.0",
            "_model_name": "LayoutModel",
            "_view_count": null,
            "_view_module": "@jupyter-widgets/base",
            "_view_module_version": "1.2.0",
            "_view_name": "LayoutView",
            "align_content": null,
            "align_items": null,
            "align_self": null,
            "border": null,
            "bottom": null,
            "display": null,
            "flex": null,
            "flex_flow": null,
            "grid_area": null,
            "grid_auto_columns": null,
            "grid_auto_flow": null,
            "grid_auto_rows": null,
            "grid_column": null,
            "grid_gap": null,
            "grid_row": null,
            "grid_template_areas": null,
            "grid_template_columns": null,
            "grid_template_rows": null,
            "height": null,
            "justify_content": null,
            "justify_items": null,
            "left": null,
            "margin": null,
            "max_height": null,
            "max_width": null,
            "min_height": null,
            "min_width": null,
            "object_fit": null,
            "object_position": null,
            "order": null,
            "overflow": null,
            "overflow_x": null,
            "overflow_y": null,
            "padding": null,
            "right": null,
            "top": null,
            "visibility": null,
            "width": null
          }
        },
        "febd12c6591748aa8d4e044ae5a001ac": {
          "model_module": "@jupyter-widgets/base",
          "model_module_version": "1.2.0",
          "model_name": "LayoutModel",
          "state": {
            "_model_module": "@jupyter-widgets/base",
            "_model_module_version": "1.2.0",
            "_model_name": "LayoutModel",
            "_view_count": null,
            "_view_module": "@jupyter-widgets/base",
            "_view_module_version": "1.2.0",
            "_view_name": "LayoutView",
            "align_content": null,
            "align_items": null,
            "align_self": null,
            "border": null,
            "bottom": null,
            "display": null,
            "flex": null,
            "flex_flow": null,
            "grid_area": null,
            "grid_auto_columns": null,
            "grid_auto_flow": null,
            "grid_auto_rows": null,
            "grid_column": null,
            "grid_gap": null,
            "grid_row": null,
            "grid_template_areas": null,
            "grid_template_columns": null,
            "grid_template_rows": null,
            "height": null,
            "justify_content": null,
            "justify_items": null,
            "left": null,
            "margin": null,
            "max_height": null,
            "max_width": null,
            "min_height": null,
            "min_width": null,
            "object_fit": null,
            "object_position": null,
            "order": null,
            "overflow": null,
            "overflow_x": null,
            "overflow_y": null,
            "padding": null,
            "right": null,
            "top": null,
            "visibility": null,
            "width": null
          }
        }
      }
    }
  },
  "nbformat": 4,
  "nbformat_minor": 0
}

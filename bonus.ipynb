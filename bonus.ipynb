{
  "cells": [
    {
      "cell_type": "code",
      "execution_count": 1,
      "metadata": {
        "colab": {
          "base_uri": "https://localhost:8080/",
          "height": 487
        },
        "id": "FV41Te_bkqdC",
        "outputId": "3da7406a-b2b2-434f-810f-632c7a8fa32c"
      },
      "outputs": [
        {
          "name": "stdout",
          "output_type": "stream",
          "text": [
            "Looking in indexes: https://pypi.org/simple, https://us-python.pkg.dev/colab-wheels/public/simple/\n",
            "Collecting torch==1.12.1\n",
            "  Downloading torch-1.12.1-cp310-cp310-manylinux1_x86_64.whl (776.3 MB)\n",
            "\u001b[2K     \u001b[90m━━━━━━━━━━━━━━━━━━━━━━━━━━━━━━━━━━━━━━━\u001b[0m \u001b[32m776.3/776.3 MB\u001b[0m \u001b[31m2.3 MB/s\u001b[0m eta \u001b[36m0:00:00\u001b[0m\n",
            "\u001b[?25hRequirement already satisfied: typing-extensions in /usr/local/lib/python3.10/dist-packages (from torch==1.12.1) (4.5.0)\n",
            "Installing collected packages: torch\n",
            "  Attempting uninstall: torch\n",
            "    Found existing installation: torch 2.0.0+cu118\n",
            "    Uninstalling torch-2.0.0+cu118:\n",
            "      Successfully uninstalled torch-2.0.0+cu118\n",
            "\u001b[31mERROR: pip's dependency resolver does not currently take into account all the packages that are installed. This behaviour is the source of the following dependency conflicts.\n",
            "torchvision 0.15.1+cu118 requires torch==2.0.0, but you have torch 1.12.1 which is incompatible.\n",
            "torchtext 0.15.1 requires torch==2.0.0, but you have torch 1.12.1 which is incompatible.\n",
            "torchdata 0.6.0 requires torch==2.0.0, but you have torch 1.12.1 which is incompatible.\n",
            "torchaudio 2.0.1+cu118 requires torch==2.0.0, but you have torch 1.12.1 which is incompatible.\u001b[0m\u001b[31m\n",
            "\u001b[0mSuccessfully installed torch-1.12.1\n",
            "Looking in indexes: https://pypi.org/simple, https://us-python.pkg.dev/colab-wheels/public/simple/\n",
            "Collecting torchmetrics\n",
            "  Downloading torchmetrics-0.11.4-py3-none-any.whl (519 kB)\n",
            "\u001b[2K     \u001b[90m━━━━━━━━━━━━━━━━━━━━━━━━━━━━━━━━━━━━━━\u001b[0m \u001b[32m519.2/519.2 kB\u001b[0m \u001b[31m38.0 MB/s\u001b[0m eta \u001b[36m0:00:00\u001b[0m\n",
            "\u001b[?25hRequirement already satisfied: packaging in /usr/local/lib/python3.10/dist-packages (from torchmetrics) (23.1)\n",
            "Requirement already satisfied: torch>=1.8.1 in /usr/local/lib/python3.10/dist-packages (from torchmetrics) (1.12.1)\n",
            "Requirement already satisfied: numpy>=1.17.2 in /usr/local/lib/python3.10/dist-packages (from torchmetrics) (1.22.4)\n",
            "Requirement already satisfied: typing-extensions in /usr/local/lib/python3.10/dist-packages (from torch>=1.8.1->torchmetrics) (4.5.0)\n",
            "Installing collected packages: torchmetrics\n",
            "Successfully installed torchmetrics-0.11.4\n"
          ]
        },
        {
          "data": {
            "application/vnd.google.colaboratory.intrinsic+json": {
              "type": "string"
            },
            "text/plain": [
              "'1.12.1+cu102'"
            ]
          },
          "execution_count": 1,
          "metadata": {},
          "output_type": "execute_result"
        }
      ],
      "source": [
        "!pip install torch==1.12.1\n",
        "!pip install torchmetrics\n",
        "import torch\n",
        "torch.__version__"
      ]
    },
    {
      "cell_type": "code",
      "execution_count": 2,
      "metadata": {
        "colab": {
          "base_uri": "https://localhost:8080/"
        },
        "id": "DSKgGwzOkqdE",
        "outputId": "a22a6a90-4b8b-41ee-f21a-fc62bfc630c3"
      },
      "outputs": [
        {
          "name": "stderr",
          "output_type": "stream",
          "text": [
            "/usr/local/lib/python3.10/dist-packages/torchvision/io/image.py:13: UserWarning: Failed to load image Python extension: '/usr/local/lib/python3.10/dist-packages/torchvision/image.so: undefined symbol: _ZN3c104impl8GPUTrace13gpuTraceStateE'If you don't plan on using image functionality from `torchvision.io`, you can ignore this warning. Otherwise, there might be something wrong with your environment. Did you have `libjpeg` or `libpng` installed before building `torchvision` from source?\n",
            "  warn(\n"
          ]
        }
      ],
      "source": [
        "#Import torch dependencies\n",
        "import torchvision\n",
        "import torchvision.transforms as transforms\n",
        "from torchmetrics.classification import MulticlassAccuracy\n",
        "from torchmetrics import Accuracy\n",
        "# file unpickle \n",
        "def unpickle(file):\n",
        "    import pickle\n",
        "    with open(file, 'rb') as fo:\n",
        "        dict = pickle.load(fo, encoding='bytes')\n",
        "    return dict"
      ]
    },
    {
      "cell_type": "code",
      "execution_count": 3,
      "metadata": {
        "id": "5T1cX3yvkqdE"
      },
      "outputs": [],
      "source": [
        "#Data loader: \n",
        "transform = transforms.Compose([transforms.ToTensor(),transforms.RandomHorizontalFlip(p=1)])\n",
        "batch_size = 10000"
      ]
    },
    {
      "cell_type": "code",
      "execution_count": 4,
      "metadata": {
        "colab": {
          "base_uri": "https://localhost:8080/",
          "height": 101,
          "referenced_widgets": [
            "6809784953ae407cb3a7295e0774f402",
            "3d33fbfc535d4fd3a7d2c8529d85840a",
            "e8204d3ffda14378b68b3fbad7bf4290",
            "8411d1a6d43b4979a4d805b7e5083bdb",
            "ebdceece842444028c33f4424f453e50",
            "61eb6e1eec3946568f1a92cf4660963e",
            "0bbfcbbd710c4cb7aefbf0b8b3a372d4",
            "ece25d80cf694dce968532e07290c5dd",
            "6763b51a7dcd4e19b16fa2299812f1b6",
            "1e078230bf424f45aa8983c1e79098cf",
            "495bd4ac3255494ca5611a7ef910d2c5"
          ]
        },
        "id": "o0bK_7S-kqdF",
        "outputId": "06d906f7-6076-4587-cc95-187491bf4ae1"
      },
      "outputs": [
        {
          "name": "stdout",
          "output_type": "stream",
          "text": [
            "Downloading https://www.cs.toronto.edu/~kriz/cifar-10-python.tar.gz to ./data/cifar-10-python.tar.gz\n"
          ]
        },
        {
          "data": {
            "application/vnd.jupyter.widget-view+json": {
              "model_id": "6809784953ae407cb3a7295e0774f402",
              "version_major": 2,
              "version_minor": 0
            },
            "text/plain": [
              "  0%|          | 0/170498071 [00:00<?, ?it/s]"
            ]
          },
          "metadata": {},
          "output_type": "display_data"
        },
        {
          "name": "stdout",
          "output_type": "stream",
          "text": [
            "Extracting ./data/cifar-10-python.tar.gz to ./data\n",
            "Files already downloaded and verified\n"
          ]
        }
      ],
      "source": [
        "trainset = torchvision.datasets.CIFAR10(root='./data', train=True,download=True, transform=transform)\n",
        "trainloader = torch.utils.data.DataLoader(trainset, batch_size=batch_size,shuffle=True, num_workers=2)\n",
        "testset = torchvision.datasets.CIFAR10(root='./data', train=False,download=True, transform=transform)\n",
        "testloader = torch.utils.data.DataLoader(testset, batch_size=batch_size,shuffle=False, num_workers=2)"
      ]
    },
    {
      "cell_type": "code",
      "execution_count": null,
      "metadata": {
        "id": "QUNXXgt2kqdF"
      },
      "outputs": [],
      "source": [
        "#dropout\n",
        "#batch norm\n",
        "#group norm\n",
        "#resnet\n",
        "#dla\n",
        "#vgg"
      ]
    },
    {
      "cell_type": "code",
      "execution_count": 5,
      "metadata": {
        "colab": {
          "base_uri": "https://localhost:8080/"
        },
        "id": "KLdEsNuYkqdF",
        "outputId": "6ab8365b-ba3d-40b7-9a4d-2f49defbe433"
      },
      "outputs": [
        {
          "name": "stderr",
          "output_type": "stream",
          "text": [
            "<ipython-input-5-043a4d172dbf>:26: UserWarning: To copy construct from a tensor, it is recommended to use sourceTensor.clone().detach() or sourceTensor.clone().detach().requires_grad_(True), rather than torch.tensor(sourceTensor).\n",
            "  encode_y = torch.tensor(encode_y, dtype=torch.float)\n",
            "<ipython-input-5-043a4d172dbf>:28: UserWarning: To copy construct from a tensor, it is recommended to use sourceTensor.clone().detach() or sourceTensor.clone().detach().requires_grad_(True), rather than torch.tensor(sourceTensor).\n",
            "  encode_test = torch.tensor(encode_test, dtype=torch.float)\n"
          ]
        }
      ],
      "source": [
        "dict1 = unpickle(file='./data/cifar-10-batches-py/data_batch_1')\n",
        "dict2 = unpickle(file='./data/cifar-10-batches-py/data_batch_2')\n",
        "dict3 = unpickle(file='./data/cifar-10-batches-py/data_batch_3')\n",
        "dict4 = unpickle(file='./data/cifar-10-batches-py/data_batch_4')\n",
        "dict5 = unpickle(file='./data/cifar-10-batches-py/data_batch_5')\n",
        "dict_test = unpickle(file='./data/cifar-10-batches-py/test_batch')\n",
        "train_x1 = torch.tensor(dict1[b'data'])\n",
        "train_y1 = torch.tensor(dict1[b'labels'])\n",
        "train_x2 = torch.tensor(dict2[b'data'])\n",
        "train_y2 = torch.tensor(dict2[b'labels'])\n",
        "train_x3 = torch.tensor(dict3[b'data'])\n",
        "train_y3 = torch.tensor(dict3[b'labels'])\n",
        "train_x4 = torch.tensor(dict4[b'data'])\n",
        "train_y4 = torch.tensor(dict4[b'labels'])\n",
        "train_x5 = torch.tensor(dict5[b'data'])\n",
        "train_y5 = torch.tensor(dict5[b'labels'])\n",
        "test_x = torch.tensor(dict_test[b'data'])\n",
        "test_y = torch.tensor(dict_test[b'labels'])\n",
        "train_x = torch.cat((train_x1, train_x2, train_x3, train_x4, train_x5), dim=0)\n",
        "train_y = torch.cat((train_y1, train_y2, train_y3, train_y4, train_y5), dim=0)\n",
        "train_x = torch.reshape(train_x, (50000, 3, 32, 32))\n",
        "train_x = train_x/255\n",
        "test_x = torch.reshape(test_x, (10000, 3, 32, 32))\n",
        "test_x = test_x/255\n",
        "encode_y = torch.nn.functional.one_hot(train_y.clone().detach(), num_classes=10)\n",
        "encode_y = torch.tensor(encode_y, dtype=torch.float)\n",
        "encode_test = torch.nn.functional.one_hot(test_y.clone().detach(), num_classes=10)\n",
        "encode_test = torch.tensor(encode_test, dtype=torch.float)"
      ]
    },
    {
      "cell_type": "code",
      "execution_count": 6,
      "metadata": {
        "id": "NzDbhXzfkqdF"
      },
      "outputs": [],
      "source": [
        "import matplotlib.pyplot as plt\n",
        "import numpy as np\n",
        "#(For plots and losses)"
      ]
    },
    {
      "cell_type": "code",
      "execution_count": 7,
      "metadata": {
        "id": "2ijTMOXpkqdG"
      },
      "outputs": [],
      "source": [
        "class CNN_Model(torch.nn.Module):\n",
        "    def __init__(self) -> None:\n",
        "        super().__init__()\n",
        "        self.conv1 = torch.nn.Conv2d(in_channels=3,out_channels=32,kernel_size=(3,3),stride=(1,1), padding=(1,1), padding_mode='zeros', bias=True)\n",
        "        self.maxpool = torch.nn.MaxPool2d((2,2), stride=(2,2), padding=0)\n",
        "        self.conv2 = torch.nn.Conv2d(32,64,(5,5),stride=(1,1), padding=(1,1), padding_mode='zeros', bias=True)\n",
        "        self.conv3 = torch.nn.Conv2d(64,64,(3,3),stride=(1,1), padding=(1,1), padding_mode='zeros', bias=True)\n",
        "        self.fc1 = torch.nn.Linear(64*7*7, 64)\n",
        "        self.fc2 = torch.nn.Linear(64, 10)\n",
        "        self.softmax = torch.nn.LogSoftmax(dim=1)\n",
        "\n",
        "    def forward(self, x, batch_size):\n",
        "        x = self.conv1(x)\n",
        "        x = torch.nn.functional.relu(x)\n",
        "        x = self.maxpool(x)\n",
        "        x = self.conv2(x)\n",
        "        x = torch.nn.functional.relu(x)\n",
        "        x = self.maxpool(x)\n",
        "        x = self.conv3(x)\n",
        "        x = torch.nn.functional.relu(x)\n",
        "        x = torch.reshape(x, (batch_size, -1))\n",
        "        x = self.fc1(x)\n",
        "        x = torch.nn.functional.relu(x)\n",
        "        x = self.fc2(x)\n",
        "        logits = self.softmax(x)\n",
        "        return logits\n"
      ]
    },
    {
      "cell_type": "code",
      "execution_count": 8,
      "metadata": {
        "id": "k0txkQmyk55Q"
      },
      "outputs": [],
      "source": [
        "class CNNModel2(torch.nn.Module):\n",
        "    def __init__(self)->None:\n",
        "        super(CNNModel2,self).__init__()\n",
        "        self.conv1 = torch.nn.Conv2d(3, 32, kernel_size=(3,3), stride=(1,1), padding=(1,1))\n",
        "        self.batchnorm1 = torch.nn.BatchNorm2d(64)\n",
        "        self.conv2 = torch.nn.Conv2d(32, 64, kernel_size=(3,3), stride=(1,1), padding=(1,1))\n",
        "        self.maxpool = torch.nn.MaxPool2d(kernel_size=2, stride=2)\n",
        "        self.conv3 = torch.nn.Conv2d(64, 128, kernel_size=(3,3), stride=(1,1), padding=(1,1))\n",
        "        self.batchnorm2 = torch.nn.BatchNorm2d(128)\n",
        "        self.conv5 = torch.nn.Conv2d(128, 256, kernel_size=(3,3), stride=(1,1), padding=(1,1))\n",
        "        self.fc1 = torch.nn.Linear(256*4*4, 1024)\n",
        "        self.batchnorm3 = torch.nn.BatchNorm2d(256)\n",
        "        self.dropout1 = torch.nn.Dropout(0.25)\n",
        "        self.dropout2 = torch.nn.Dropout(0.5)\n",
        "        self.fc2 = torch.nn.Linear(1024, 512)\n",
        "        self.fc3 = torch.nn.Linear(512, 10)\n",
        "    \n",
        "    def forward(self, x, batchsize):\n",
        "        #layer 1\n",
        "        y = self.conv1(x)\n",
        "        y = torch.nn.functional.relu(y)\n",
        "        y = self.conv2(y)\n",
        "        y = torch.nn.functional.relu(y)\n",
        "        y = self.maxpool(y)\n",
        "        y = self.batchnorm1(y)\n",
        "        y = self.conv3(y)\n",
        "        y = torch.nn.functional.relu(y)\n",
        "        y = self.maxpool(y)\n",
        "        y = self.batchnorm2(y)\n",
        "  \n",
        "        y = self.conv5(y)\n",
        "        y = torch.nn.functional.relu(y)\n",
        "        y = self.maxpool(y)\n",
        "        y = self.batchnorm3(y)\n",
        "        y = self.dropout1(y)\n",
        "        \n",
        "\n",
        "        y = torch.reshape(y, (batchsize, -1))\n",
        "        y = self.fc1(y)\n",
        "        y = torch.nn.functional.relu(y)\n",
        "        y = self.fc2(y)\n",
        "        y = torch.nn.functional.relu(y)\n",
        "        y = self.dropout2(y)\n",
        "        y = self.fc3(y)\n",
        "        return y"
      ]
    },
    {
      "cell_type": "code",
      "execution_count": 11,
      "metadata": {
        "colab": {
          "base_uri": "https://localhost:8080/"
        },
        "id": "UDK11VcIkqdG",
        "outputId": "5c6b4efd-5d7b-4d5a-e4d0-610a1fd28e43"
      },
      "outputs": [
        {
          "name": "stdout",
          "output_type": "stream",
          "text": [
            "----EPOCH 1-----\n",
            "VAL ACC EPOCH = 1: 0.6759999990463257\n",
            "TRAIN ACC EPOCH 1: 0.6754999756813049\n",
            "----EPOCH 2-----\n",
            "VAL ACC EPOCH = 2: 0.734499990940094\n",
            "TRAIN ACC EPOCH 2: 0.7450000047683716\n",
            "----EPOCH 3-----\n",
            "VAL ACC EPOCH = 3: 0.7620000243186951\n",
            "TRAIN ACC EPOCH 3: 0.7860000133514404\n",
            "----EPOCH 4-----\n",
            "VAL ACC EPOCH = 4: 0.781000018119812\n",
            "TRAIN ACC EPOCH 4: 0.8149999976158142\n",
            "----EPOCH 5-----\n",
            "VAL ACC EPOCH = 5: 0.7829999923706055\n",
            "TRAIN ACC EPOCH 5: 0.8274999856948853\n",
            "----EPOCH 6-----\n",
            "VAL ACC EPOCH = 6: 0.7919999957084656\n",
            "TRAIN ACC EPOCH 6: 0.8525000214576721\n",
            "----EPOCH 7-----\n",
            "VAL ACC EPOCH = 7: 0.7925000190734863\n",
            "TRAIN ACC EPOCH 7: 0.8560000061988831\n",
            "----EPOCH 8-----\n",
            "VAL ACC EPOCH = 8: 0.7935000061988831\n",
            "TRAIN ACC EPOCH 8: 0.8805000185966492\n",
            "----EPOCH 9-----\n",
            "VAL ACC EPOCH = 9: 0.8090000152587891\n",
            "TRAIN ACC EPOCH 9: 0.9014999866485596\n",
            "----EPOCH 10-----\n",
            "VAL ACC EPOCH = 10: 0.809499979019165\n",
            "TRAIN ACC EPOCH 10: 0.9104999899864197\n",
            "----EPOCH 11-----\n",
            "VAL ACC EPOCH = 11: 0.7935000061988831\n",
            "TRAIN ACC EPOCH 11: 0.9054999947547913\n",
            "----EPOCH 12-----\n",
            "VAL ACC EPOCH = 12: 0.8044999837875366\n",
            "TRAIN ACC EPOCH 12: 0.8970000147819519\n",
            "----EPOCH 13-----\n",
            "VAL ACC EPOCH = 13: 0.8084999918937683\n",
            "TRAIN ACC EPOCH 13: 0.9169999957084656\n",
            "----EPOCH 14-----\n",
            "VAL ACC EPOCH = 14: 0.8169999718666077\n",
            "TRAIN ACC EPOCH 14: 0.9254999756813049\n",
            "----EPOCH 15-----\n",
            "VAL ACC EPOCH = 15: 0.8075000047683716\n",
            "TRAIN ACC EPOCH 15: 0.9290000200271606\n",
            "----EPOCH 16-----\n",
            "VAL ACC EPOCH = 16: 0.809499979019165\n",
            "TRAIN ACC EPOCH 16: 0.9294999837875366\n",
            "----EPOCH 17-----\n",
            "VAL ACC EPOCH = 17: 0.8109999895095825\n",
            "TRAIN ACC EPOCH 17: 0.9294999837875366\n",
            "----EPOCH 18-----\n",
            "VAL ACC EPOCH = 18: 0.8180000185966492\n",
            "TRAIN ACC EPOCH 18: 0.9315000176429749\n",
            "tensor([2067.1909, 1355.8289, 1094.5562,  928.9739,  803.0645,  704.8461,\n",
            "         623.9920,  561.7343,  507.9993,  465.4418,  433.1402,  400.4676,\n",
            "         374.1067,  360.7436,  337.5649,  319.3326,  312.7422,  295.4007])\n",
            "tensor([0.9595, 0.7691, 0.7510, 0.6803, 0.6871, 0.6936, 0.7691, 0.7491, 0.7423,\n",
            "        0.7393, 0.7792, 0.8022, 0.7886, 0.7355, 0.7643, 0.7846, 0.7889, 0.7952])\n",
            "tensor([0.6755, 0.7450, 0.7860, 0.8150, 0.8275, 0.8525, 0.8560, 0.8805, 0.9015,\n",
            "        0.9105, 0.9055, 0.8970, 0.9170, 0.9255, 0.9290, 0.9295, 0.9295, 0.9315])\n",
            "tensor([0.6760, 0.7345, 0.7620, 0.7810, 0.7830, 0.7920, 0.7925, 0.7935, 0.8090,\n",
            "        0.8095, 0.7935, 0.8045, 0.8085, 0.8170, 0.8075, 0.8095, 0.8110, 0.8180])\n"
          ]
        }
      ],
      "source": [
        "epoch = 18\n",
        "batch_size = 32\n",
        "batches = 1562\n",
        "acc_met = Accuracy(task=\"multiclass\", num_classes=10).to('cuda:0')\n",
        "model = CNNModel2().to('cuda:0')\n",
        "criterion = torch.nn.CrossEntropyLoss()\n",
        "optimizer = torch.optim.Adam(model.parameters(), lr=0.001, weight_decay=0.0001)\n",
        "# scheduler_LR = lr_scheduler.ExponentialLR(optimizer, gamma=0.99)\n",
        "trainaccs = torch.empty(epoch)\n",
        "valaccs = torch.empty(epoch)\n",
        "train_loss = torch.empty(epoch)\n",
        "val_loss = torch.empty(epoch)\n",
        "for epochs in range(epoch):\n",
        "    print(f'----EPOCH {epochs+1}-----')\n",
        "    tloss = 0\n",
        "    for b in range(batches):\n",
        "      data = train_x[b*batch_size:(b+1)*batch_size,:,:,:].to('cuda:0')\n",
        "      target = encode_y[b*batch_size:(b+1)*batch_size,:].to('cuda:0')\n",
        "      scores = model.forward(data,32)\n",
        "      loss = criterion(scores,target)\n",
        "      # print(f'EPOCH: {epochs+1}, BATCH: {b+1}, LOSS: {loss}')\n",
        "      tloss+=loss.item()\n",
        "      optimizer.zero_grad()\n",
        "      loss.backward()\n",
        "      optimizer.step()\n",
        "    # print(f'LR BEFORE: {optimizer.param_groups[0][\"lr\"]}')\n",
        "    # scheduler_LR.step()\n",
        "    # print(f'LR AFTER: {optimizer.param_groups[0][\"lr\"]}')\n",
        "    score_val = model.forward(test_x[:2000].to('cuda:0'),2000)\n",
        "    pred_val = torch.argmax(score_val, dim=1)\n",
        "    finalacc_val = acc_met(pred_val, test_y[:2000].to('cuda:0'))\n",
        "    score_tr = model.forward(train_x[:2000].to('cuda:0'),2000)\n",
        "    pred_tr = torch.argmax(score_tr, dim=1)\n",
        "    finalacc_tr = acc_met(pred_tr, train_y[:2000].to('cuda:0'))  \n",
        "    valaccs[epochs]=finalacc_val\n",
        "    trainaccs[epochs]=finalacc_tr\n",
        "    val_loss[epochs]=criterion(score_val,encode_test[:2000].to('cuda:0')).item()\n",
        "    train_loss[epochs]=tloss\n",
        "    print(f'VAL ACC EPOCH = {epochs+1}: {finalacc_val}')\n",
        "    print(f'TRAIN ACC EPOCH {epochs+1}: {finalacc_tr}')\n",
        "print(train_loss)\n",
        "print(val_loss)\n",
        "print(trainaccs)\n",
        "print(valaccs)\n",
        "# train_loss = train_loss/499.84\n",
        "# val_loss = val_loss/10\n",
        "# print(train_loss)\n",
        "# print(val_loss)\n",
        "# loss_t = train_loss.detach().numpy()\n",
        "# loss_v = val_loss.detach().numpy()"
      ]
    },
    {
      "cell_type": "code",
      "execution_count": null,
      "metadata": {
        "id": "_sqdQt6cz4hS"
      },
      "outputs": [],
      "source": []
    },
    {
      "cell_type": "code",
      "execution_count": 13,
      "metadata": {
        "colab": {
          "base_uri": "https://localhost:8080/",
          "height": 542
        },
        "id": "V5vIzclGkqdG",
        "outputId": "dd726565-902d-4246-91d2-c4345306a6ea"
      },
      "outputs": [
        {
          "data": {
            "image/png": "[encoded data removed]",
            "text/plain": [
              "<Figure size 800x600 with 1 Axes>"
            ]
          },
          "metadata": {},
          "output_type": "display_data"
        }
      ],
      "source": [
        "#Plots of accuracy:\n",
        "plt.figure(figsize=(8,6))\n",
        "plt.xlabel('Epochs')\n",
        "plt.ylabel('Accuracy')\n",
        "eps = np.arange(1,19)\n",
        "# plt.ylim(90,95)\n",
        "plt.xticks(np.arange(0,19))\n",
        "plt.plot(eps,trainaccs,'purple',label=\"Train data\")\n",
        "plt.plot(eps,valaccs, 'cyan', label='Validation data')\n",
        "plt.legend()\n",
        "plt.show()"
      ]
    },
    {
      "cell_type": "code",
      "execution_count": 16,
      "metadata": {
        "colab": {
          "base_uri": "https://localhost:8080/",
          "height": 542
        },
        "id": "o_3cvsoKkqdH",
        "outputId": "e02dce88-8ec5-42d1-f8bf-45a022bfbd6b"
      },
      "outputs": [
        {
          "data": {
            "image/png": "[encoded data removed]",
            "text/plain": [
              "<Figure size 800x600 with 1 Axes>"
            ]
          },
          "metadata": {},
          "output_type": "display_data"
        }
      ],
      "source": [
        "#Plots of loss:\n",
        "plt.figure(figsize=(8,6))\n",
        "plt.xlabel('Epochs')\n",
        "plt.ylabel('Cross Entropy Loss')\n",
        "eps = np.arange(1,19)\n",
        "# plt.ylim(90,95)\n",
        "plt.xticks(np.arange(0,19))\n",
        "plt.plot(eps,train_loss,'purple',label=\"Train data\")\n",
        "plt.plot(eps,val_loss, 'green', label='Validation data')\n",
        "plt.legend()\n",
        "plt.show()"
      ]
    },
    {
      "cell_type": "code",
      "execution_count": 17,
      "metadata": {
        "colab": {
          "base_uri": "https://localhost:8080/",
          "height": 542
        },
        "id": "7flUK_tLJRDJ",
        "outputId": "2c6c7587-8e07-4b41-c242-57f7ee9a0123"
      },
      "outputs": [
        {
          "data": {
            "image/png": "[encoded data removed]",
            "text/plain": [
              "<Figure size 800x600 with 1 Axes>"
            ]
          },
          "metadata": {},
          "output_type": "display_data"
        }
      ],
      "source": [
        "#Plots of loss:\n",
        "plt.figure(figsize=(8,6))\n",
        "plt.xlabel('Epochs')\n",
        "plt.ylabel('Cross Entropy Loss')\n",
        "eps = np.arange(1,19)\n",
        "# plt.ylim(90,95)\n",
        "plt.xticks(np.arange(0,19))\n",
        "# plt.plot(eps,train_loss,'purple',label=\"Train data\")\n",
        "plt.plot(eps,val_loss, 'green', label='Validation data')\n",
        "plt.legend()\n",
        "plt.show()"
      ]
    },
    {
      "cell_type": "code",
      "execution_count": 19,
      "metadata": {
        "colab": {
          "base_uri": "https://localhost:8080/"
        },
        "id": "MF8GRggCkqdI",
        "outputId": "168ed403-efe2-4132-bb84-c15d9625ce68"
      },
      "outputs": [
        {
          "name": "stdout",
          "output_type": "stream",
          "text": [
            "tensor(0.8180, device='cuda:0')\n",
            "tensor([0.8163, 0.9040, 0.7333, 0.7136, 0.8131, 0.7243, 0.8611, 0.8549, 0.8664,\n",
            "        0.8768], device='cuda:0')\n"
          ]
        }
      ],
      "source": [
        "metric = MulticlassAccuracy(num_classes=10, average=None).to('cuda:0')\n",
        "pred_y = torch.argmax(score_val, dim=1).to('cuda:0')\n",
        "classwise = metric(score_val, test_y[:2000].to('cuda:0'))\n",
        "val_acc_met = Accuracy(task=\"multiclass\", num_classes=10).to('cuda:0')\n",
        "finalacc = val_acc_met(pred_y, test_y[:2000].to('cuda:0'))\n",
        "print(finalacc)\n",
        "print(classwise)\n",
        "###BAR GRAPH OF CLASSWISE ACCURACY\n"
      ]
    },
    {
      "cell_type": "code",
      "execution_count": 21,
      "metadata": {
        "colab": {
          "base_uri": "https://localhost:8080/",
          "height": 559
        },
        "id": "ega4RPq8Ng_b",
        "outputId": "69633f69-f89f-4a6f-dc96-935078a6cab0"
      },
      "outputs": [
        {
          "name": "stderr",
          "output_type": "stream",
          "text": [
            "WARNING:matplotlib.legend:No artists with labels found to put in legend.  Note that artists whose label start with an underscore are ignored when legend() is called with no argument.\n"
          ]
        },
        {
          "data": {
            "image/png": "[encoded data removed]",
            "text/plain": [
              "<Figure size 800x600 with 1 Axes>"
            ]
          },
          "metadata": {},
          "output_type": "display_data"
        }
      ],
      "source": [
        "plt.figure(figsize=(8,6))\n",
        "classes = np.arange(0,10)\n",
        "plt.xticks(classes)\n",
        "plt.bar(classes, classwise.to('cpu'), color='purple',width=0.4)\n",
        "plt.xlabel('Classes')\n",
        "plt.ylabel('Accuracy')\n",
        "plt.legend()\n",
        "plt.show()"
      ]
    },
    {
      "cell_type": "code",
      "execution_count": null,
      "metadata": {
        "id": "TVSYu_lFkqdI"
      },
      "outputs": [],
      "source": []
    }
  ],
  "metadata": {
    "accelerator": "GPU",
    "colab": {
      "provenance": []
    },
    "gpuClass": "standard",
    "kernelspec": {
      "display_name": "Python 3.9.12 ('base')",
      "language": "python",
      "name": "python3"
    },
    "language_info": {
      "codemirror_mode": {
        "name": "ipython",
        "version": 3
      },
      "file_extension": ".py",
      "mimetype": "text/x-python",
      "name": "python",
      "nbconvert_exporter": "python",
      "pygments_lexer": "ipython3",
      "version": "3.9.12"
    },
    "orig_nbformat": 4,
    "vscode": {
      "interpreter": {
        "hash": "73cba7173f8447e209b3236db8d7a4c2baa473635286a4d66150d0ea51f721be"
      }
    },
    "widgets": {
      "application/vnd.jupyter.widget-state+json": {
        "0bbfcbbd710c4cb7aefbf0b8b3a372d4": {
          "model_module": "@jupyter-widgets/controls",
          "model_module_version": "1.5.0",
          "model_name": "DescriptionStyleModel",
          "state": {
            "_model_module": "@jupyter-widgets/controls",
            "_model_module_version": "1.5.0",
            "_model_name": "DescriptionStyleModel",
            "_view_count": null,
            "_view_module": "@jupyter-widgets/base",
            "_view_module_version": "1.2.0",
            "_view_name": "StyleView",
            "description_width": ""
          }
        },
        "1e078230bf424f45aa8983c1e79098cf": {
          "model_module": "@jupyter-widgets/base",
          "model_module_version": "1.2.0",
          "model_name": "LayoutModel",
          "state": {
            "_model_module": "@jupyter-widgets/base",
            "_model_module_version": "1.2.0",
            "_model_name": "LayoutModel",
            "_view_count": null,
            "_view_module": "@jupyter-widgets/base",
            "_view_module_version": "1.2.0",
            "_view_name": "LayoutView",
            "align_content": null,
            "align_items": null,
            "align_self": null,
            "border": null,
            "bottom": null,
            "display": null,
            "flex": null,
            "flex_flow": null,
            "grid_area": null,
            "grid_auto_columns": null,
            "grid_auto_flow": null,
            "grid_auto_rows": null,
            "grid_column": null,
            "grid_gap": null,
            "grid_row": null,
            "grid_template_areas": null,
            "grid_template_columns": null,
            "grid_template_rows": null,
            "height": null,
            "justify_content": null,
            "justify_items": null,
            "left": null,
            "margin": null,
            "max_height": null,
            "max_width": null,
            "min_height": null,
            "min_width": null,
            "object_fit": null,
            "object_position": null,
            "order": null,
            "overflow": null,
            "overflow_x": null,
            "overflow_y": null,
            "padding": null,
            "right": null,
            "top": null,
            "visibility": null,
            "width": null
          }
        },
        "3d33fbfc535d4fd3a7d2c8529d85840a": {
          "model_module": "@jupyter-widgets/controls",
          "model_module_version": "1.5.0",
          "model_name": "HTMLModel",
          "state": {
            "_dom_classes": [],
            "_model_module": "@jupyter-widgets/controls",
            "_model_module_version": "1.5.0",
            "_model_name": "HTMLModel",
            "_view_count": null,
            "_view_module": "@jupyter-widgets/controls",
            "_view_module_version": "1.5.0",
            "_view_name": "HTMLView",
            "description": "",
            "description_tooltip": null,
            "layout": "IPY_MODEL_61eb6e1eec3946568f1a92cf4660963e",
            "placeholder": "​",
            "style": "IPY_MODEL_0bbfcbbd710c4cb7aefbf0b8b3a372d4",
            "value": "100%"
          }
        },
        "495bd4ac3255494ca5611a7ef910d2c5": {
          "model_module": "@jupyter-widgets/controls",
          "model_module_version": "1.5.0",
          "model_name": "DescriptionStyleModel",
          "state": {
            "_model_module": "@jupyter-widgets/controls",
            "_model_module_version": "1.5.0",
            "_model_name": "DescriptionStyleModel",
            "_view_count": null,
            "_view_module": "@jupyter-widgets/base",
            "_view_module_version": "1.2.0",
            "_view_name": "StyleView",
            "description_width": ""
          }
        },
        "61eb6e1eec3946568f1a92cf4660963e": {
          "model_module": "@jupyter-widgets/base",
          "model_module_version": "1.2.0",
          "model_name": "LayoutModel",
          "state": {
            "_model_module": "@jupyter-widgets/base",
            "_model_module_version": "1.2.0",
            "_model_name": "LayoutModel",
            "_view_count": null,
            "_view_module": "@jupyter-widgets/base",
            "_view_module_version": "1.2.0",
            "_view_name": "LayoutView",
            "align_content": null,
            "align_items": null,
            "align_self": null,
            "border": null,
            "bottom": null,
            "display": null,
            "flex": null,
            "flex_flow": null,
            "grid_area": null,
            "grid_auto_columns": null,
            "grid_auto_flow": null,
            "grid_auto_rows": null,
            "grid_column": null,
            "grid_gap": null,
            "grid_row": null,
            "grid_template_areas": null,
            "grid_template_columns": null,
            "grid_template_rows": null,
            "height": null,
            "justify_content": null,
            "justify_items": null,
            "left": null,
            "margin": null,
            "max_height": null,
            "max_width": null,
            "min_height": null,
            "min_width": null,
            "object_fit": null,
            "object_position": null,
            "order": null,
            "overflow": null,
            "overflow_x": null,
            "overflow_y": null,
            "padding": null,
            "right": null,
            "top": null,
            "visibility": null,
            "width": null
          }
        },
        "6763b51a7dcd4e19b16fa2299812f1b6": {
          "model_module": "@jupyter-widgets/controls",
          "model_module_version": "1.5.0",
          "model_name": "ProgressStyleModel",
          "state": {
            "_model_module": "@jupyter-widgets/controls",
            "_model_module_version": "1.5.0",
            "_model_name": "ProgressStyleModel",
            "_view_count": null,
            "_view_module": "@jupyter-widgets/base",
            "_view_module_version": "1.2.0",
            "_view_name": "StyleView",
            "bar_color": null,
            "description_width": ""
          }
        },
        "6809784953ae407cb3a7295e0774f402": {
          "model_module": "@jupyter-widgets/controls",
          "model_module_version": "1.5.0",
          "model_name": "HBoxModel",
          "state": {
            "_dom_classes": [],
            "_model_module": "@jupyter-widgets/controls",
            "_model_module_version": "1.5.0",
            "_model_name": "HBoxModel",
            "_view_count": null,
            "_view_module": "@jupyter-widgets/controls",
            "_view_module_version": "1.5.0",
            "_view_name": "HBoxView",
            "box_style": "",
            "children": [
              "IPY_MODEL_3d33fbfc535d4fd3a7d2c8529d85840a",
              "IPY_MODEL_e8204d3ffda14378b68b3fbad7bf4290",
              "IPY_MODEL_8411d1a6d43b4979a4d805b7e5083bdb"
            ],
            "layout": "IPY_MODEL_ebdceece842444028c33f4424f453e50"
          }
        },
        "8411d1a6d43b4979a4d805b7e5083bdb": {
          "model_module": "@jupyter-widgets/controls",
          "model_module_version": "1.5.0",
          "model_name": "HTMLModel",
          "state": {
            "_dom_classes": [],
            "_model_module": "@jupyter-widgets/controls",
            "_model_module_version": "1.5.0",
            "_model_name": "HTMLModel",
            "_view_count": null,
            "_view_module": "@jupyter-widgets/controls",
            "_view_module_version": "1.5.0",
            "_view_name": "HTMLView",
            "description": "",
            "description_tooltip": null,
            "layout": "IPY_MODEL_1e078230bf424f45aa8983c1e79098cf",
            "placeholder": "​",
            "style": "IPY_MODEL_495bd4ac3255494ca5611a7ef910d2c5",
            "value": " 170498071/170498071 [00:13&lt;00:00, 13398639.58it/s]"
          }
        },
        "e8204d3ffda14378b68b3fbad7bf4290": {
          "model_module": "@jupyter-widgets/controls",
          "model_module_version": "1.5.0",
          "model_name": "FloatProgressModel",
          "state": {
            "_dom_classes": [],
            "_model_module": "@jupyter-widgets/controls",
            "_model_module_version": "1.5.0",
            "_model_name": "FloatProgressModel",
            "_view_count": null,
            "_view_module": "@jupyter-widgets/controls",
            "_view_module_version": "1.5.0",
            "_view_name": "ProgressView",
            "bar_style": "success",
            "description": "",
            "description_tooltip": null,
            "layout": "IPY_MODEL_ece25d80cf694dce968532e07290c5dd",
            "max": 170498071,
            "min": 0,
            "orientation": "horizontal",
            "style": "IPY_MODEL_6763b51a7dcd4e19b16fa2299812f1b6",
            "value": 170498071
          }
        },
        "ebdceece842444028c33f4424f453e50": {
          "model_module": "@jupyter-widgets/base",
          "model_module_version": "1.2.0",
          "model_name": "LayoutModel",
          "state": {
            "_model_module": "@jupyter-widgets/base",
            "_model_module_version": "1.2.0",
            "_model_name": "LayoutModel",
            "_view_count": null,
            "_view_module": "@jupyter-widgets/base",
            "_view_module_version": "1.2.0",
            "_view_name": "LayoutView",
            "align_content": null,
            "align_items": null,
            "align_self": null,
            "border": null,
            "bottom": null,
            "display": null,
            "flex": null,
            "flex_flow": null,
            "grid_area": null,
            "grid_auto_columns": null,
            "grid_auto_flow": null,
            "grid_auto_rows": null,
            "grid_column": null,
            "grid_gap": null,
            "grid_row": null,
            "grid_template_areas": null,
            "grid_template_columns": null,
            "grid_template_rows": null,
            "height": null,
            "justify_content": null,
            "justify_items": null,
            "left": null,
            "margin": null,
            "max_height": null,
            "max_width": null,
            "min_height": null,
            "min_width": null,
            "object_fit": null,
            "object_position": null,
            "order": null,
            "overflow": null,
            "overflow_x": null,
            "overflow_y": null,
            "padding": null,
            "right": null,
            "top": null,
            "visibility": null,
            "width": null
          }
        },
        "ece25d80cf694dce968532e07290c5dd": {
          "model_module": "@jupyter-widgets/base",
          "model_module_version": "1.2.0",
          "model_name": "LayoutModel",
          "state": {
            "_model_module": "@jupyter-widgets/base",
            "_model_module_version": "1.2.0",
            "_model_name": "LayoutModel",
            "_view_count": null,
            "_view_module": "@jupyter-widgets/base",
            "_view_module_version": "1.2.0",
            "_view_name": "LayoutView",
            "align_content": null,
            "align_items": null,
            "align_self": null,
            "border": null,
            "bottom": null,
            "display": null,
            "flex": null,
            "flex_flow": null,
            "grid_area": null,
            "grid_auto_columns": null,
            "grid_auto_flow": null,
            "grid_auto_rows": null,
            "grid_column": null,
            "grid_gap": null,
            "grid_row": null,
            "grid_template_areas": null,
            "grid_template_columns": null,
            "grid_template_rows": null,
            "height": null,
            "justify_content": null,
            "justify_items": null,
            "left": null,
            "margin": null,
            "max_height": null,
            "max_width": null,
            "min_height": null,
            "min_width": null,
            "object_fit": null,
            "object_position": null,
            "order": null,
            "overflow": null,
            "overflow_x": null,
            "overflow_y": null,
            "padding": null,
            "right": null,
            "top": null,
            "visibility": null,
            "width": null
          }
        }
      }
    }
  },
  "nbformat": 4,
  "nbformat_minor": 0
}
